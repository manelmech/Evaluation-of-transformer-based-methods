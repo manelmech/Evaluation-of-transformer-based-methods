{
  "metadata": {
    "accelerator": "GPU",
    "colab": {
      "provenance": [],
      "include_colab_link": true
    },
    "gpuClass": "standard",
    "kernelspec": {
      "name": "python3",
      "display_name": "Python 3",
      "language": "python"
    },
    "language_info": {
      "name": "python",
      "version": "3.7.12",
      "mimetype": "text/x-python",
      "codemirror_mode": {
        "name": "ipython",
        "version": 3
      },
      "pygments_lexer": "ipython3",
      "nbconvert_exporter": "python",
      "file_extension": ".py"
    },
    "widgets": {
      "application/vnd.jupyter.widget-state+json": {
        "89d8dc559fea4803a2cec79b676f4aef": {
          "model_module": "@jupyter-widgets/controls",
          "model_name": "HBoxModel",
          "model_module_version": "1.5.0",
          "state": {
            "_dom_classes": [],
            "_model_module": "@jupyter-widgets/controls",
            "_model_module_version": "1.5.0",
            "_model_name": "HBoxModel",
            "_view_count": null,
            "_view_module": "@jupyter-widgets/controls",
            "_view_module_version": "1.5.0",
            "_view_name": "HBoxView",
            "box_style": "",
            "children": [
              "IPY_MODEL_e044799ac08d4aecb84bb1da7e5ff70b",
              "IPY_MODEL_abbb71e1298b45f0bd24fd71277660b7",
              "IPY_MODEL_eb7b6ad5a01c4db184dd7359d6d13a75"
            ],
            "layout": "IPY_MODEL_c78f817cb3364297af1a7956ba15b9f2"
          }
        },
        "e044799ac08d4aecb84bb1da7e5ff70b": {
          "model_module": "@jupyter-widgets/controls",
          "model_name": "HTMLModel",
          "model_module_version": "1.5.0",
          "state": {
            "_dom_classes": [],
            "_model_module": "@jupyter-widgets/controls",
            "_model_module_version": "1.5.0",
            "_model_name": "HTMLModel",
            "_view_count": null,
            "_view_module": "@jupyter-widgets/controls",
            "_view_module_version": "1.5.0",
            "_view_name": "HTMLView",
            "description": "",
            "description_tooltip": null,
            "layout": "IPY_MODEL_71e759f769de4c5cbff30351fc0a506f",
            "placeholder": "​",
            "style": "IPY_MODEL_271a082216f24cfe8e10134fd8d3232e",
            "value": "Downloading: 100%"
          }
        },
        "abbb71e1298b45f0bd24fd71277660b7": {
          "model_module": "@jupyter-widgets/controls",
          "model_name": "FloatProgressModel",
          "model_module_version": "1.5.0",
          "state": {
            "_dom_classes": [],
            "_model_module": "@jupyter-widgets/controls",
            "_model_module_version": "1.5.0",
            "_model_name": "FloatProgressModel",
            "_view_count": null,
            "_view_module": "@jupyter-widgets/controls",
            "_view_module_version": "1.5.0",
            "_view_name": "ProgressView",
            "bar_style": "success",
            "description": "",
            "description_tooltip": null,
            "layout": "IPY_MODEL_0c9a3d470d31406f8b8eb99af643dc45",
            "max": 231508,
            "min": 0,
            "orientation": "horizontal",
            "style": "IPY_MODEL_a5b56a54e0614e87a387dbe9b383e22b",
            "value": 231508
          }
        },
        "eb7b6ad5a01c4db184dd7359d6d13a75": {
          "model_module": "@jupyter-widgets/controls",
          "model_name": "HTMLModel",
          "model_module_version": "1.5.0",
          "state": {
            "_dom_classes": [],
            "_model_module": "@jupyter-widgets/controls",
            "_model_module_version": "1.5.0",
            "_model_name": "HTMLModel",
            "_view_count": null,
            "_view_module": "@jupyter-widgets/controls",
            "_view_module_version": "1.5.0",
            "_view_name": "HTMLView",
            "description": "",
            "description_tooltip": null,
            "layout": "IPY_MODEL_1d5f1fe211504eafbd564cea0ef8951b",
            "placeholder": "​",
            "style": "IPY_MODEL_597a50135d0c4cf9bf8d7cd12e6a25a1",
            "value": " 232k/232k [00:00&lt;00:00, 192kB/s]"
          }
        },
        "c78f817cb3364297af1a7956ba15b9f2": {
          "model_module": "@jupyter-widgets/base",
          "model_name": "LayoutModel",
          "model_module_version": "1.2.0",
          "state": {
            "_model_module": "@jupyter-widgets/base",
            "_model_module_version": "1.2.0",
            "_model_name": "LayoutModel",
            "_view_count": null,
            "_view_module": "@jupyter-widgets/base",
            "_view_module_version": "1.2.0",
            "_view_name": "LayoutView",
            "align_content": null,
            "align_items": null,
            "align_self": null,
            "border": null,
            "bottom": null,
            "display": null,
            "flex": null,
            "flex_flow": null,
            "grid_area": null,
            "grid_auto_columns": null,
            "grid_auto_flow": null,
            "grid_auto_rows": null,
            "grid_column": null,
            "grid_gap": null,
            "grid_row": null,
            "grid_template_areas": null,
            "grid_template_columns": null,
            "grid_template_rows": null,
            "height": null,
            "justify_content": null,
            "justify_items": null,
            "left": null,
            "margin": null,
            "max_height": null,
            "max_width": null,
            "min_height": null,
            "min_width": null,
            "object_fit": null,
            "object_position": null,
            "order": null,
            "overflow": null,
            "overflow_x": null,
            "overflow_y": null,
            "padding": null,
            "right": null,
            "top": null,
            "visibility": null,
            "width": null
          }
        },
        "71e759f769de4c5cbff30351fc0a506f": {
          "model_module": "@jupyter-widgets/base",
          "model_name": "LayoutModel",
          "model_module_version": "1.2.0",
          "state": {
            "_model_module": "@jupyter-widgets/base",
            "_model_module_version": "1.2.0",
            "_model_name": "LayoutModel",
            "_view_count": null,
            "_view_module": "@jupyter-widgets/base",
            "_view_module_version": "1.2.0",
            "_view_name": "LayoutView",
            "align_content": null,
            "align_items": null,
            "align_self": null,
            "border": null,
            "bottom": null,
            "display": null,
            "flex": null,
            "flex_flow": null,
            "grid_area": null,
            "grid_auto_columns": null,
            "grid_auto_flow": null,
            "grid_auto_rows": null,
            "grid_column": null,
            "grid_gap": null,
            "grid_row": null,
            "grid_template_areas": null,
            "grid_template_columns": null,
            "grid_template_rows": null,
            "height": null,
            "justify_content": null,
            "justify_items": null,
            "left": null,
            "margin": null,
            "max_height": null,
            "max_width": null,
            "min_height": null,
            "min_width": null,
            "object_fit": null,
            "object_position": null,
            "order": null,
            "overflow": null,
            "overflow_x": null,
            "overflow_y": null,
            "padding": null,
            "right": null,
            "top": null,
            "visibility": null,
            "width": null
          }
        },
        "271a082216f24cfe8e10134fd8d3232e": {
          "model_module": "@jupyter-widgets/controls",
          "model_name": "DescriptionStyleModel",
          "model_module_version": "1.5.0",
          "state": {
            "_model_module": "@jupyter-widgets/controls",
            "_model_module_version": "1.5.0",
            "_model_name": "DescriptionStyleModel",
            "_view_count": null,
            "_view_module": "@jupyter-widgets/base",
            "_view_module_version": "1.2.0",
            "_view_name": "StyleView",
            "description_width": ""
          }
        },
        "0c9a3d470d31406f8b8eb99af643dc45": {
          "model_module": "@jupyter-widgets/base",
          "model_name": "LayoutModel",
          "model_module_version": "1.2.0",
          "state": {
            "_model_module": "@jupyter-widgets/base",
            "_model_module_version": "1.2.0",
            "_model_name": "LayoutModel",
            "_view_count": null,
            "_view_module": "@jupyter-widgets/base",
            "_view_module_version": "1.2.0",
            "_view_name": "LayoutView",
            "align_content": null,
            "align_items": null,
            "align_self": null,
            "border": null,
            "bottom": null,
            "display": null,
            "flex": null,
            "flex_flow": null,
            "grid_area": null,
            "grid_auto_columns": null,
            "grid_auto_flow": null,
            "grid_auto_rows": null,
            "grid_column": null,
            "grid_gap": null,
            "grid_row": null,
            "grid_template_areas": null,
            "grid_template_columns": null,
            "grid_template_rows": null,
            "height": null,
            "justify_content": null,
            "justify_items": null,
            "left": null,
            "margin": null,
            "max_height": null,
            "max_width": null,
            "min_height": null,
            "min_width": null,
            "object_fit": null,
            "object_position": null,
            "order": null,
            "overflow": null,
            "overflow_x": null,
            "overflow_y": null,
            "padding": null,
            "right": null,
            "top": null,
            "visibility": null,
            "width": null
          }
        },
        "a5b56a54e0614e87a387dbe9b383e22b": {
          "model_module": "@jupyter-widgets/controls",
          "model_name": "ProgressStyleModel",
          "model_module_version": "1.5.0",
          "state": {
            "_model_module": "@jupyter-widgets/controls",
            "_model_module_version": "1.5.0",
            "_model_name": "ProgressStyleModel",
            "_view_count": null,
            "_view_module": "@jupyter-widgets/base",
            "_view_module_version": "1.2.0",
            "_view_name": "StyleView",
            "bar_color": null,
            "description_width": ""
          }
        },
        "1d5f1fe211504eafbd564cea0ef8951b": {
          "model_module": "@jupyter-widgets/base",
          "model_name": "LayoutModel",
          "model_module_version": "1.2.0",
          "state": {
            "_model_module": "@jupyter-widgets/base",
            "_model_module_version": "1.2.0",
            "_model_name": "LayoutModel",
            "_view_count": null,
            "_view_module": "@jupyter-widgets/base",
            "_view_module_version": "1.2.0",
            "_view_name": "LayoutView",
            "align_content": null,
            "align_items": null,
            "align_self": null,
            "border": null,
            "bottom": null,
            "display": null,
            "flex": null,
            "flex_flow": null,
            "grid_area": null,
            "grid_auto_columns": null,
            "grid_auto_flow": null,
            "grid_auto_rows": null,
            "grid_column": null,
            "grid_gap": null,
            "grid_row": null,
            "grid_template_areas": null,
            "grid_template_columns": null,
            "grid_template_rows": null,
            "height": null,
            "justify_content": null,
            "justify_items": null,
            "left": null,
            "margin": null,
            "max_height": null,
            "max_width": null,
            "min_height": null,
            "min_width": null,
            "object_fit": null,
            "object_position": null,
            "order": null,
            "overflow": null,
            "overflow_x": null,
            "overflow_y": null,
            "padding": null,
            "right": null,
            "top": null,
            "visibility": null,
            "width": null
          }
        },
        "597a50135d0c4cf9bf8d7cd12e6a25a1": {
          "model_module": "@jupyter-widgets/controls",
          "model_name": "DescriptionStyleModel",
          "model_module_version": "1.5.0",
          "state": {
            "_model_module": "@jupyter-widgets/controls",
            "_model_module_version": "1.5.0",
            "_model_name": "DescriptionStyleModel",
            "_view_count": null,
            "_view_module": "@jupyter-widgets/base",
            "_view_module_version": "1.2.0",
            "_view_name": "StyleView",
            "description_width": ""
          }
        },
        "65c5d0f555a14f3097a61e40b4812351": {
          "model_module": "@jupyter-widgets/controls",
          "model_name": "HBoxModel",
          "model_module_version": "1.5.0",
          "state": {
            "_dom_classes": [],
            "_model_module": "@jupyter-widgets/controls",
            "_model_module_version": "1.5.0",
            "_model_name": "HBoxModel",
            "_view_count": null,
            "_view_module": "@jupyter-widgets/controls",
            "_view_module_version": "1.5.0",
            "_view_name": "HBoxView",
            "box_style": "",
            "children": [
              "IPY_MODEL_405616d80c814fbcb0e6f1a0ca9cbc84",
              "IPY_MODEL_79e527fbd5664372b962635cd89e45b1",
              "IPY_MODEL_f25b01ca35f74815852a0239b0934185"
            ],
            "layout": "IPY_MODEL_16c4db3badb84c94a133e4f4c6f0427c"
          }
        },
        "405616d80c814fbcb0e6f1a0ca9cbc84": {
          "model_module": "@jupyter-widgets/controls",
          "model_name": "HTMLModel",
          "model_module_version": "1.5.0",
          "state": {
            "_dom_classes": [],
            "_model_module": "@jupyter-widgets/controls",
            "_model_module_version": "1.5.0",
            "_model_name": "HTMLModel",
            "_view_count": null,
            "_view_module": "@jupyter-widgets/controls",
            "_view_module_version": "1.5.0",
            "_view_name": "HTMLView",
            "description": "",
            "description_tooltip": null,
            "layout": "IPY_MODEL_8c82c6d01b6f4840ad2713f4f667c6cd",
            "placeholder": "​",
            "style": "IPY_MODEL_ca7017ed5fd24724a7cae0d4dfbf5773",
            "value": "Downloading: 100%"
          }
        },
        "79e527fbd5664372b962635cd89e45b1": {
          "model_module": "@jupyter-widgets/controls",
          "model_name": "FloatProgressModel",
          "model_module_version": "1.5.0",
          "state": {
            "_dom_classes": [],
            "_model_module": "@jupyter-widgets/controls",
            "_model_module_version": "1.5.0",
            "_model_name": "FloatProgressModel",
            "_view_count": null,
            "_view_module": "@jupyter-widgets/controls",
            "_view_module_version": "1.5.0",
            "_view_name": "ProgressView",
            "bar_style": "success",
            "description": "",
            "description_tooltip": null,
            "layout": "IPY_MODEL_ecb2f28cbe4745b2b0b98bfbd1fcbe40",
            "max": 28,
            "min": 0,
            "orientation": "horizontal",
            "style": "IPY_MODEL_018f21252c0a4d149741e23c6de16aa8",
            "value": 28
          }
        },
        "f25b01ca35f74815852a0239b0934185": {
          "model_module": "@jupyter-widgets/controls",
          "model_name": "HTMLModel",
          "model_module_version": "1.5.0",
          "state": {
            "_dom_classes": [],
            "_model_module": "@jupyter-widgets/controls",
            "_model_module_version": "1.5.0",
            "_model_name": "HTMLModel",
            "_view_count": null,
            "_view_module": "@jupyter-widgets/controls",
            "_view_module_version": "1.5.0",
            "_view_name": "HTMLView",
            "description": "",
            "description_tooltip": null,
            "layout": "IPY_MODEL_7921573c52554fadbcd8ed9634e5b47f",
            "placeholder": "​",
            "style": "IPY_MODEL_21377b05885e496697bafb9f76196bfb",
            "value": " 28.0/28.0 [00:00&lt;00:00, 1.63kB/s]"
          }
        },
        "16c4db3badb84c94a133e4f4c6f0427c": {
          "model_module": "@jupyter-widgets/base",
          "model_name": "LayoutModel",
          "model_module_version": "1.2.0",
          "state": {
            "_model_module": "@jupyter-widgets/base",
            "_model_module_version": "1.2.0",
            "_model_name": "LayoutModel",
            "_view_count": null,
            "_view_module": "@jupyter-widgets/base",
            "_view_module_version": "1.2.0",
            "_view_name": "LayoutView",
            "align_content": null,
            "align_items": null,
            "align_self": null,
            "border": null,
            "bottom": null,
            "display": null,
            "flex": null,
            "flex_flow": null,
            "grid_area": null,
            "grid_auto_columns": null,
            "grid_auto_flow": null,
            "grid_auto_rows": null,
            "grid_column": null,
            "grid_gap": null,
            "grid_row": null,
            "grid_template_areas": null,
            "grid_template_columns": null,
            "grid_template_rows": null,
            "height": null,
            "justify_content": null,
            "justify_items": null,
            "left": null,
            "margin": null,
            "max_height": null,
            "max_width": null,
            "min_height": null,
            "min_width": null,
            "object_fit": null,
            "object_position": null,
            "order": null,
            "overflow": null,
            "overflow_x": null,
            "overflow_y": null,
            "padding": null,
            "right": null,
            "top": null,
            "visibility": null,
            "width": null
          }
        },
        "8c82c6d01b6f4840ad2713f4f667c6cd": {
          "model_module": "@jupyter-widgets/base",
          "model_name": "LayoutModel",
          "model_module_version": "1.2.0",
          "state": {
            "_model_module": "@jupyter-widgets/base",
            "_model_module_version": "1.2.0",
            "_model_name": "LayoutModel",
            "_view_count": null,
            "_view_module": "@jupyter-widgets/base",
            "_view_module_version": "1.2.0",
            "_view_name": "LayoutView",
            "align_content": null,
            "align_items": null,
            "align_self": null,
            "border": null,
            "bottom": null,
            "display": null,
            "flex": null,
            "flex_flow": null,
            "grid_area": null,
            "grid_auto_columns": null,
            "grid_auto_flow": null,
            "grid_auto_rows": null,
            "grid_column": null,
            "grid_gap": null,
            "grid_row": null,
            "grid_template_areas": null,
            "grid_template_columns": null,
            "grid_template_rows": null,
            "height": null,
            "justify_content": null,
            "justify_items": null,
            "left": null,
            "margin": null,
            "max_height": null,
            "max_width": null,
            "min_height": null,
            "min_width": null,
            "object_fit": null,
            "object_position": null,
            "order": null,
            "overflow": null,
            "overflow_x": null,
            "overflow_y": null,
            "padding": null,
            "right": null,
            "top": null,
            "visibility": null,
            "width": null
          }
        },
        "ca7017ed5fd24724a7cae0d4dfbf5773": {
          "model_module": "@jupyter-widgets/controls",
          "model_name": "DescriptionStyleModel",
          "model_module_version": "1.5.0",
          "state": {
            "_model_module": "@jupyter-widgets/controls",
            "_model_module_version": "1.5.0",
            "_model_name": "DescriptionStyleModel",
            "_view_count": null,
            "_view_module": "@jupyter-widgets/base",
            "_view_module_version": "1.2.0",
            "_view_name": "StyleView",
            "description_width": ""
          }
        },
        "ecb2f28cbe4745b2b0b98bfbd1fcbe40": {
          "model_module": "@jupyter-widgets/base",
          "model_name": "LayoutModel",
          "model_module_version": "1.2.0",
          "state": {
            "_model_module": "@jupyter-widgets/base",
            "_model_module_version": "1.2.0",
            "_model_name": "LayoutModel",
            "_view_count": null,
            "_view_module": "@jupyter-widgets/base",
            "_view_module_version": "1.2.0",
            "_view_name": "LayoutView",
            "align_content": null,
            "align_items": null,
            "align_self": null,
            "border": null,
            "bottom": null,
            "display": null,
            "flex": null,
            "flex_flow": null,
            "grid_area": null,
            "grid_auto_columns": null,
            "grid_auto_flow": null,
            "grid_auto_rows": null,
            "grid_column": null,
            "grid_gap": null,
            "grid_row": null,
            "grid_template_areas": null,
            "grid_template_columns": null,
            "grid_template_rows": null,
            "height": null,
            "justify_content": null,
            "justify_items": null,
            "left": null,
            "margin": null,
            "max_height": null,
            "max_width": null,
            "min_height": null,
            "min_width": null,
            "object_fit": null,
            "object_position": null,
            "order": null,
            "overflow": null,
            "overflow_x": null,
            "overflow_y": null,
            "padding": null,
            "right": null,
            "top": null,
            "visibility": null,
            "width": null
          }
        },
        "018f21252c0a4d149741e23c6de16aa8": {
          "model_module": "@jupyter-widgets/controls",
          "model_name": "ProgressStyleModel",
          "model_module_version": "1.5.0",
          "state": {
            "_model_module": "@jupyter-widgets/controls",
            "_model_module_version": "1.5.0",
            "_model_name": "ProgressStyleModel",
            "_view_count": null,
            "_view_module": "@jupyter-widgets/base",
            "_view_module_version": "1.2.0",
            "_view_name": "StyleView",
            "bar_color": null,
            "description_width": ""
          }
        },
        "7921573c52554fadbcd8ed9634e5b47f": {
          "model_module": "@jupyter-widgets/base",
          "model_name": "LayoutModel",
          "model_module_version": "1.2.0",
          "state": {
            "_model_module": "@jupyter-widgets/base",
            "_model_module_version": "1.2.0",
            "_model_name": "LayoutModel",
            "_view_count": null,
            "_view_module": "@jupyter-widgets/base",
            "_view_module_version": "1.2.0",
            "_view_name": "LayoutView",
            "align_content": null,
            "align_items": null,
            "align_self": null,
            "border": null,
            "bottom": null,
            "display": null,
            "flex": null,
            "flex_flow": null,
            "grid_area": null,
            "grid_auto_columns": null,
            "grid_auto_flow": null,
            "grid_auto_rows": null,
            "grid_column": null,
            "grid_gap": null,
            "grid_row": null,
            "grid_template_areas": null,
            "grid_template_columns": null,
            "grid_template_rows": null,
            "height": null,
            "justify_content": null,
            "justify_items": null,
            "left": null,
            "margin": null,
            "max_height": null,
            "max_width": null,
            "min_height": null,
            "min_width": null,
            "object_fit": null,
            "object_position": null,
            "order": null,
            "overflow": null,
            "overflow_x": null,
            "overflow_y": null,
            "padding": null,
            "right": null,
            "top": null,
            "visibility": null,
            "width": null
          }
        },
        "21377b05885e496697bafb9f76196bfb": {
          "model_module": "@jupyter-widgets/controls",
          "model_name": "DescriptionStyleModel",
          "model_module_version": "1.5.0",
          "state": {
            "_model_module": "@jupyter-widgets/controls",
            "_model_module_version": "1.5.0",
            "_model_name": "DescriptionStyleModel",
            "_view_count": null,
            "_view_module": "@jupyter-widgets/base",
            "_view_module_version": "1.2.0",
            "_view_name": "StyleView",
            "description_width": ""
          }
        },
        "c77c7119eda842b8a4d4e030efbc658d": {
          "model_module": "@jupyter-widgets/controls",
          "model_name": "HBoxModel",
          "model_module_version": "1.5.0",
          "state": {
            "_dom_classes": [],
            "_model_module": "@jupyter-widgets/controls",
            "_model_module_version": "1.5.0",
            "_model_name": "HBoxModel",
            "_view_count": null,
            "_view_module": "@jupyter-widgets/controls",
            "_view_module_version": "1.5.0",
            "_view_name": "HBoxView",
            "box_style": "",
            "children": [
              "IPY_MODEL_6278d64c988349a7a37b9097a5d6055f",
              "IPY_MODEL_7da50af869494207889908fb2182e54a",
              "IPY_MODEL_4aee046f5c9847a7bcda1e27d5bf9010"
            ],
            "layout": "IPY_MODEL_4b330cfc710a4a7e91bec39b4c71e84c"
          }
        },
        "6278d64c988349a7a37b9097a5d6055f": {
          "model_module": "@jupyter-widgets/controls",
          "model_name": "HTMLModel",
          "model_module_version": "1.5.0",
          "state": {
            "_dom_classes": [],
            "_model_module": "@jupyter-widgets/controls",
            "_model_module_version": "1.5.0",
            "_model_name": "HTMLModel",
            "_view_count": null,
            "_view_module": "@jupyter-widgets/controls",
            "_view_module_version": "1.5.0",
            "_view_name": "HTMLView",
            "description": "",
            "description_tooltip": null,
            "layout": "IPY_MODEL_8e7026f64955427ca48afb5a147ab27c",
            "placeholder": "​",
            "style": "IPY_MODEL_7ef3784a4b02490a9de0febcf080265b",
            "value": "Downloading: 100%"
          }
        },
        "7da50af869494207889908fb2182e54a": {
          "model_module": "@jupyter-widgets/controls",
          "model_name": "FloatProgressModel",
          "model_module_version": "1.5.0",
          "state": {
            "_dom_classes": [],
            "_model_module": "@jupyter-widgets/controls",
            "_model_module_version": "1.5.0",
            "_model_name": "FloatProgressModel",
            "_view_count": null,
            "_view_module": "@jupyter-widgets/controls",
            "_view_module_version": "1.5.0",
            "_view_name": "ProgressView",
            "bar_style": "success",
            "description": "",
            "description_tooltip": null,
            "layout": "IPY_MODEL_044274cf26c1430988f464b570ae2f43",
            "max": 483,
            "min": 0,
            "orientation": "horizontal",
            "style": "IPY_MODEL_ffcc0a36803d4ffca4cff4de0732e9f7",
            "value": 483
          }
        },
        "4aee046f5c9847a7bcda1e27d5bf9010": {
          "model_module": "@jupyter-widgets/controls",
          "model_name": "HTMLModel",
          "model_module_version": "1.5.0",
          "state": {
            "_dom_classes": [],
            "_model_module": "@jupyter-widgets/controls",
            "_model_module_version": "1.5.0",
            "_model_name": "HTMLModel",
            "_view_count": null,
            "_view_module": "@jupyter-widgets/controls",
            "_view_module_version": "1.5.0",
            "_view_name": "HTMLView",
            "description": "",
            "description_tooltip": null,
            "layout": "IPY_MODEL_da20df41f50d44d09cdfa7916a08707d",
            "placeholder": "​",
            "style": "IPY_MODEL_5017f2daab254abd9208bbcffd69e6bb",
            "value": " 483/483 [00:00&lt;00:00, 30.6kB/s]"
          }
        },
        "4b330cfc710a4a7e91bec39b4c71e84c": {
          "model_module": "@jupyter-widgets/base",
          "model_name": "LayoutModel",
          "model_module_version": "1.2.0",
          "state": {
            "_model_module": "@jupyter-widgets/base",
            "_model_module_version": "1.2.0",
            "_model_name": "LayoutModel",
            "_view_count": null,
            "_view_module": "@jupyter-widgets/base",
            "_view_module_version": "1.2.0",
            "_view_name": "LayoutView",
            "align_content": null,
            "align_items": null,
            "align_self": null,
            "border": null,
            "bottom": null,
            "display": null,
            "flex": null,
            "flex_flow": null,
            "grid_area": null,
            "grid_auto_columns": null,
            "grid_auto_flow": null,
            "grid_auto_rows": null,
            "grid_column": null,
            "grid_gap": null,
            "grid_row": null,
            "grid_template_areas": null,
            "grid_template_columns": null,
            "grid_template_rows": null,
            "height": null,
            "justify_content": null,
            "justify_items": null,
            "left": null,
            "margin": null,
            "max_height": null,
            "max_width": null,
            "min_height": null,
            "min_width": null,
            "object_fit": null,
            "object_position": null,
            "order": null,
            "overflow": null,
            "overflow_x": null,
            "overflow_y": null,
            "padding": null,
            "right": null,
            "top": null,
            "visibility": null,
            "width": null
          }
        },
        "8e7026f64955427ca48afb5a147ab27c": {
          "model_module": "@jupyter-widgets/base",
          "model_name": "LayoutModel",
          "model_module_version": "1.2.0",
          "state": {
            "_model_module": "@jupyter-widgets/base",
            "_model_module_version": "1.2.0",
            "_model_name": "LayoutModel",
            "_view_count": null,
            "_view_module": "@jupyter-widgets/base",
            "_view_module_version": "1.2.0",
            "_view_name": "LayoutView",
            "align_content": null,
            "align_items": null,
            "align_self": null,
            "border": null,
            "bottom": null,
            "display": null,
            "flex": null,
            "flex_flow": null,
            "grid_area": null,
            "grid_auto_columns": null,
            "grid_auto_flow": null,
            "grid_auto_rows": null,
            "grid_column": null,
            "grid_gap": null,
            "grid_row": null,
            "grid_template_areas": null,
            "grid_template_columns": null,
            "grid_template_rows": null,
            "height": null,
            "justify_content": null,
            "justify_items": null,
            "left": null,
            "margin": null,
            "max_height": null,
            "max_width": null,
            "min_height": null,
            "min_width": null,
            "object_fit": null,
            "object_position": null,
            "order": null,
            "overflow": null,
            "overflow_x": null,
            "overflow_y": null,
            "padding": null,
            "right": null,
            "top": null,
            "visibility": null,
            "width": null
          }
        },
        "7ef3784a4b02490a9de0febcf080265b": {
          "model_module": "@jupyter-widgets/controls",
          "model_name": "DescriptionStyleModel",
          "model_module_version": "1.5.0",
          "state": {
            "_model_module": "@jupyter-widgets/controls",
            "_model_module_version": "1.5.0",
            "_model_name": "DescriptionStyleModel",
            "_view_count": null,
            "_view_module": "@jupyter-widgets/base",
            "_view_module_version": "1.2.0",
            "_view_name": "StyleView",
            "description_width": ""
          }
        },
        "044274cf26c1430988f464b570ae2f43": {
          "model_module": "@jupyter-widgets/base",
          "model_name": "LayoutModel",
          "model_module_version": "1.2.0",
          "state": {
            "_model_module": "@jupyter-widgets/base",
            "_model_module_version": "1.2.0",
            "_model_name": "LayoutModel",
            "_view_count": null,
            "_view_module": "@jupyter-widgets/base",
            "_view_module_version": "1.2.0",
            "_view_name": "LayoutView",
            "align_content": null,
            "align_items": null,
            "align_self": null,
            "border": null,
            "bottom": null,
            "display": null,
            "flex": null,
            "flex_flow": null,
            "grid_area": null,
            "grid_auto_columns": null,
            "grid_auto_flow": null,
            "grid_auto_rows": null,
            "grid_column": null,
            "grid_gap": null,
            "grid_row": null,
            "grid_template_areas": null,
            "grid_template_columns": null,
            "grid_template_rows": null,
            "height": null,
            "justify_content": null,
            "justify_items": null,
            "left": null,
            "margin": null,
            "max_height": null,
            "max_width": null,
            "min_height": null,
            "min_width": null,
            "object_fit": null,
            "object_position": null,
            "order": null,
            "overflow": null,
            "overflow_x": null,
            "overflow_y": null,
            "padding": null,
            "right": null,
            "top": null,
            "visibility": null,
            "width": null
          }
        },
        "ffcc0a36803d4ffca4cff4de0732e9f7": {
          "model_module": "@jupyter-widgets/controls",
          "model_name": "ProgressStyleModel",
          "model_module_version": "1.5.0",
          "state": {
            "_model_module": "@jupyter-widgets/controls",
            "_model_module_version": "1.5.0",
            "_model_name": "ProgressStyleModel",
            "_view_count": null,
            "_view_module": "@jupyter-widgets/base",
            "_view_module_version": "1.2.0",
            "_view_name": "StyleView",
            "bar_color": null,
            "description_width": ""
          }
        },
        "da20df41f50d44d09cdfa7916a08707d": {
          "model_module": "@jupyter-widgets/base",
          "model_name": "LayoutModel",
          "model_module_version": "1.2.0",
          "state": {
            "_model_module": "@jupyter-widgets/base",
            "_model_module_version": "1.2.0",
            "_model_name": "LayoutModel",
            "_view_count": null,
            "_view_module": "@jupyter-widgets/base",
            "_view_module_version": "1.2.0",
            "_view_name": "LayoutView",
            "align_content": null,
            "align_items": null,
            "align_self": null,
            "border": null,
            "bottom": null,
            "display": null,
            "flex": null,
            "flex_flow": null,
            "grid_area": null,
            "grid_auto_columns": null,
            "grid_auto_flow": null,
            "grid_auto_rows": null,
            "grid_column": null,
            "grid_gap": null,
            "grid_row": null,
            "grid_template_areas": null,
            "grid_template_columns": null,
            "grid_template_rows": null,
            "height": null,
            "justify_content": null,
            "justify_items": null,
            "left": null,
            "margin": null,
            "max_height": null,
            "max_width": null,
            "min_height": null,
            "min_width": null,
            "object_fit": null,
            "object_position": null,
            "order": null,
            "overflow": null,
            "overflow_x": null,
            "overflow_y": null,
            "padding": null,
            "right": null,
            "top": null,
            "visibility": null,
            "width": null
          }
        },
        "5017f2daab254abd9208bbcffd69e6bb": {
          "model_module": "@jupyter-widgets/controls",
          "model_name": "DescriptionStyleModel",
          "model_module_version": "1.5.0",
          "state": {
            "_model_module": "@jupyter-widgets/controls",
            "_model_module_version": "1.5.0",
            "_model_name": "DescriptionStyleModel",
            "_view_count": null,
            "_view_module": "@jupyter-widgets/base",
            "_view_module_version": "1.2.0",
            "_view_name": "StyleView",
            "description_width": ""
          }
        },
        "097f4b7c2a794cd981492c03e8ce962c": {
          "model_module": "@jupyter-widgets/controls",
          "model_name": "HBoxModel",
          "model_module_version": "1.5.0",
          "state": {
            "_dom_classes": [],
            "_model_module": "@jupyter-widgets/controls",
            "_model_module_version": "1.5.0",
            "_model_name": "HBoxModel",
            "_view_count": null,
            "_view_module": "@jupyter-widgets/controls",
            "_view_module_version": "1.5.0",
            "_view_name": "HBoxView",
            "box_style": "",
            "children": [
              "IPY_MODEL_1882d94a1a934e89b549a90775b52e54",
              "IPY_MODEL_9b0ca75de18b4b3ba3b1ce021997a48e",
              "IPY_MODEL_434b01d3717d4ca194e6feaf940a0f37"
            ],
            "layout": "IPY_MODEL_6c78598d89334bdf928882e69204fdb6"
          }
        },
        "1882d94a1a934e89b549a90775b52e54": {
          "model_module": "@jupyter-widgets/controls",
          "model_name": "HTMLModel",
          "model_module_version": "1.5.0",
          "state": {
            "_dom_classes": [],
            "_model_module": "@jupyter-widgets/controls",
            "_model_module_version": "1.5.0",
            "_model_name": "HTMLModel",
            "_view_count": null,
            "_view_module": "@jupyter-widgets/controls",
            "_view_module_version": "1.5.0",
            "_view_name": "HTMLView",
            "description": "",
            "description_tooltip": null,
            "layout": "IPY_MODEL_d0ed3cb6e6c54c9ea6dc4dd8826dbc50",
            "placeholder": "​",
            "style": "IPY_MODEL_e73f648d12924be4851235ccc8b61258",
            "value": "Downloading: 100%"
          }
        },
        "9b0ca75de18b4b3ba3b1ce021997a48e": {
          "model_module": "@jupyter-widgets/controls",
          "model_name": "FloatProgressModel",
          "model_module_version": "1.5.0",
          "state": {
            "_dom_classes": [],
            "_model_module": "@jupyter-widgets/controls",
            "_model_module_version": "1.5.0",
            "_model_name": "FloatProgressModel",
            "_view_count": null,
            "_view_module": "@jupyter-widgets/controls",
            "_view_module_version": "1.5.0",
            "_view_name": "ProgressView",
            "bar_style": "success",
            "description": "",
            "description_tooltip": null,
            "layout": "IPY_MODEL_a909b447ef7d472a961d8e91e9c10411",
            "max": 267967963,
            "min": 0,
            "orientation": "horizontal",
            "style": "IPY_MODEL_38adea5d2a23414f88b566b5986d3500",
            "value": 267967963
          }
        },
        "434b01d3717d4ca194e6feaf940a0f37": {
          "model_module": "@jupyter-widgets/controls",
          "model_name": "HTMLModel",
          "model_module_version": "1.5.0",
          "state": {
            "_dom_classes": [],
            "_model_module": "@jupyter-widgets/controls",
            "_model_module_version": "1.5.0",
            "_model_name": "HTMLModel",
            "_view_count": null,
            "_view_module": "@jupyter-widgets/controls",
            "_view_module_version": "1.5.0",
            "_view_name": "HTMLView",
            "description": "",
            "description_tooltip": null,
            "layout": "IPY_MODEL_9ba013ae980a4f408cc6bfc9770f96d8",
            "placeholder": "​",
            "style": "IPY_MODEL_8f6650ff03764bf7bdeb632b07c904e8",
            "value": " 268M/268M [00:07&lt;00:00, 35.3MB/s]"
          }
        },
        "6c78598d89334bdf928882e69204fdb6": {
          "model_module": "@jupyter-widgets/base",
          "model_name": "LayoutModel",
          "model_module_version": "1.2.0",
          "state": {
            "_model_module": "@jupyter-widgets/base",
            "_model_module_version": "1.2.0",
            "_model_name": "LayoutModel",
            "_view_count": null,
            "_view_module": "@jupyter-widgets/base",
            "_view_module_version": "1.2.0",
            "_view_name": "LayoutView",
            "align_content": null,
            "align_items": null,
            "align_self": null,
            "border": null,
            "bottom": null,
            "display": null,
            "flex": null,
            "flex_flow": null,
            "grid_area": null,
            "grid_auto_columns": null,
            "grid_auto_flow": null,
            "grid_auto_rows": null,
            "grid_column": null,
            "grid_gap": null,
            "grid_row": null,
            "grid_template_areas": null,
            "grid_template_columns": null,
            "grid_template_rows": null,
            "height": null,
            "justify_content": null,
            "justify_items": null,
            "left": null,
            "margin": null,
            "max_height": null,
            "max_width": null,
            "min_height": null,
            "min_width": null,
            "object_fit": null,
            "object_position": null,
            "order": null,
            "overflow": null,
            "overflow_x": null,
            "overflow_y": null,
            "padding": null,
            "right": null,
            "top": null,
            "visibility": null,
            "width": null
          }
        },
        "d0ed3cb6e6c54c9ea6dc4dd8826dbc50": {
          "model_module": "@jupyter-widgets/base",
          "model_name": "LayoutModel",
          "model_module_version": "1.2.0",
          "state": {
            "_model_module": "@jupyter-widgets/base",
            "_model_module_version": "1.2.0",
            "_model_name": "LayoutModel",
            "_view_count": null,
            "_view_module": "@jupyter-widgets/base",
            "_view_module_version": "1.2.0",
            "_view_name": "LayoutView",
            "align_content": null,
            "align_items": null,
            "align_self": null,
            "border": null,
            "bottom": null,
            "display": null,
            "flex": null,
            "flex_flow": null,
            "grid_area": null,
            "grid_auto_columns": null,
            "grid_auto_flow": null,
            "grid_auto_rows": null,
            "grid_column": null,
            "grid_gap": null,
            "grid_row": null,
            "grid_template_areas": null,
            "grid_template_columns": null,
            "grid_template_rows": null,
            "height": null,
            "justify_content": null,
            "justify_items": null,
            "left": null,
            "margin": null,
            "max_height": null,
            "max_width": null,
            "min_height": null,
            "min_width": null,
            "object_fit": null,
            "object_position": null,
            "order": null,
            "overflow": null,
            "overflow_x": null,
            "overflow_y": null,
            "padding": null,
            "right": null,
            "top": null,
            "visibility": null,
            "width": null
          }
        },
        "e73f648d12924be4851235ccc8b61258": {
          "model_module": "@jupyter-widgets/controls",
          "model_name": "DescriptionStyleModel",
          "model_module_version": "1.5.0",
          "state": {
            "_model_module": "@jupyter-widgets/controls",
            "_model_module_version": "1.5.0",
            "_model_name": "DescriptionStyleModel",
            "_view_count": null,
            "_view_module": "@jupyter-widgets/base",
            "_view_module_version": "1.2.0",
            "_view_name": "StyleView",
            "description_width": ""
          }
        },
        "a909b447ef7d472a961d8e91e9c10411": {
          "model_module": "@jupyter-widgets/base",
          "model_name": "LayoutModel",
          "model_module_version": "1.2.0",
          "state": {
            "_model_module": "@jupyter-widgets/base",
            "_model_module_version": "1.2.0",
            "_model_name": "LayoutModel",
            "_view_count": null,
            "_view_module": "@jupyter-widgets/base",
            "_view_module_version": "1.2.0",
            "_view_name": "LayoutView",
            "align_content": null,
            "align_items": null,
            "align_self": null,
            "border": null,
            "bottom": null,
            "display": null,
            "flex": null,
            "flex_flow": null,
            "grid_area": null,
            "grid_auto_columns": null,
            "grid_auto_flow": null,
            "grid_auto_rows": null,
            "grid_column": null,
            "grid_gap": null,
            "grid_row": null,
            "grid_template_areas": null,
            "grid_template_columns": null,
            "grid_template_rows": null,
            "height": null,
            "justify_content": null,
            "justify_items": null,
            "left": null,
            "margin": null,
            "max_height": null,
            "max_width": null,
            "min_height": null,
            "min_width": null,
            "object_fit": null,
            "object_position": null,
            "order": null,
            "overflow": null,
            "overflow_x": null,
            "overflow_y": null,
            "padding": null,
            "right": null,
            "top": null,
            "visibility": null,
            "width": null
          }
        },
        "38adea5d2a23414f88b566b5986d3500": {
          "model_module": "@jupyter-widgets/controls",
          "model_name": "ProgressStyleModel",
          "model_module_version": "1.5.0",
          "state": {
            "_model_module": "@jupyter-widgets/controls",
            "_model_module_version": "1.5.0",
            "_model_name": "ProgressStyleModel",
            "_view_count": null,
            "_view_module": "@jupyter-widgets/base",
            "_view_module_version": "1.2.0",
            "_view_name": "StyleView",
            "bar_color": null,
            "description_width": ""
          }
        },
        "9ba013ae980a4f408cc6bfc9770f96d8": {
          "model_module": "@jupyter-widgets/base",
          "model_name": "LayoutModel",
          "model_module_version": "1.2.0",
          "state": {
            "_model_module": "@jupyter-widgets/base",
            "_model_module_version": "1.2.0",
            "_model_name": "LayoutModel",
            "_view_count": null,
            "_view_module": "@jupyter-widgets/base",
            "_view_module_version": "1.2.0",
            "_view_name": "LayoutView",
            "align_content": null,
            "align_items": null,
            "align_self": null,
            "border": null,
            "bottom": null,
            "display": null,
            "flex": null,
            "flex_flow": null,
            "grid_area": null,
            "grid_auto_columns": null,
            "grid_auto_flow": null,
            "grid_auto_rows": null,
            "grid_column": null,
            "grid_gap": null,
            "grid_row": null,
            "grid_template_areas": null,
            "grid_template_columns": null,
            "grid_template_rows": null,
            "height": null,
            "justify_content": null,
            "justify_items": null,
            "left": null,
            "margin": null,
            "max_height": null,
            "max_width": null,
            "min_height": null,
            "min_width": null,
            "object_fit": null,
            "object_position": null,
            "order": null,
            "overflow": null,
            "overflow_x": null,
            "overflow_y": null,
            "padding": null,
            "right": null,
            "top": null,
            "visibility": null,
            "width": null
          }
        },
        "8f6650ff03764bf7bdeb632b07c904e8": {
          "model_module": "@jupyter-widgets/controls",
          "model_name": "DescriptionStyleModel",
          "model_module_version": "1.5.0",
          "state": {
            "_model_module": "@jupyter-widgets/controls",
            "_model_module_version": "1.5.0",
            "_model_name": "DescriptionStyleModel",
            "_view_count": null,
            "_view_module": "@jupyter-widgets/base",
            "_view_module_version": "1.2.0",
            "_view_name": "StyleView",
            "description_width": ""
          }
        }
      }
    }
  },
  "nbformat_minor": 0,
  "nbformat": 4,
  "cells": [
    {
      "cell_type": "markdown",
      "metadata": {
        "id": "view-in-github",
        "colab_type": "text"
      },
      "source": [
        "<a href=\"https://colab.research.google.com/github/manelmech/Evaluation-of-transformer-based-methods/blob/main/Fine_tuning__DistilBert_v2.ipynb\" target=\"_parent\"><img src=\"https://colab.research.google.com/assets/colab-badge.svg\" alt=\"Open In Colab\"/></a>"
      ]
    },
    {
      "cell_type": "markdown",
      "source": [
        "# Environment setup"
      ],
      "metadata": {
        "id": "kHdvzkQ7IDlL"
      }
    },
    {
      "cell_type": "code",
      "source": [],
      "metadata": {
        "id": "N9CWq3bT49T_"
      },
      "execution_count": null,
      "outputs": []
    },
    {
      "cell_type": "code",
      "source": [
        "!nvidia-smi\n"
      ],
      "metadata": {
        "colab": {
          "base_uri": "https://localhost:8080/"
        },
        "id": "sG2Ab22iaK4-",
        "outputId": "fb8f93e8-4ae6-4749-bfa8-2f74b2ee177c",
        "execution": {
          "iopub.status.busy": "2023-01-04T23:00:43.192627Z",
          "iopub.execute_input": "2023-01-04T23:00:43.192987Z",
          "iopub.status.idle": "2023-01-04T23:00:44.211585Z",
          "shell.execute_reply.started": "2023-01-04T23:00:43.192910Z",
          "shell.execute_reply": "2023-01-04T23:00:44.210376Z"
        },
        "trusted": true
      },
      "execution_count": 1,
      "outputs": [
        {
          "output_type": "stream",
          "name": "stdout",
          "text": [
            "Thu Jan  5 19:17:41 2023       \n",
            "+-----------------------------------------------------------------------------+\n",
            "| NVIDIA-SMI 460.32.03    Driver Version: 460.32.03    CUDA Version: 11.2     |\n",
            "|-------------------------------+----------------------+----------------------+\n",
            "| GPU  Name        Persistence-M| Bus-Id        Disp.A | Volatile Uncorr. ECC |\n",
            "| Fan  Temp  Perf  Pwr:Usage/Cap|         Memory-Usage | GPU-Util  Compute M. |\n",
            "|                               |                      |               MIG M. |\n",
            "|===============================+======================+======================|\n",
            "|   0  Tesla T4            Off  | 00000000:00:04.0 Off |                    0 |\n",
            "| N/A   65C    P0    28W /  70W |      0MiB / 15109MiB |      0%      Default |\n",
            "|                               |                      |                  N/A |\n",
            "+-------------------------------+----------------------+----------------------+\n",
            "                                                                               \n",
            "+-----------------------------------------------------------------------------+\n",
            "| Processes:                                                                  |\n",
            "|  GPU   GI   CI        PID   Type   Process name                  GPU Memory |\n",
            "|        ID   ID                                                   Usage      |\n",
            "|=============================================================================|\n",
            "|  No running processes found                                                 |\n",
            "+-----------------------------------------------------------------------------+\n"
          ]
        }
      ]
    },
    {
      "cell_type": "code",
      "source": [
        "!pip install transformers\n",
        "\n",
        "!pip install sentencepiece transformers"
      ],
      "metadata": {
        "colab": {
          "base_uri": "https://localhost:8080/"
        },
        "id": "DVKoGXNj4Nkb",
        "outputId": "ca6b5a54-a96b-42e2-e1b9-eb02e41a1e49",
        "execution": {
          "iopub.status.busy": "2023-01-04T23:00:44.213868Z",
          "iopub.execute_input": "2023-01-04T23:00:44.214205Z",
          "iopub.status.idle": "2023-01-04T23:01:05.477500Z",
          "shell.execute_reply.started": "2023-01-04T23:00:44.214175Z",
          "shell.execute_reply": "2023-01-04T23:01:05.476252Z"
        },
        "trusted": true
      },
      "execution_count": 2,
      "outputs": [
        {
          "output_type": "stream",
          "name": "stdout",
          "text": [
            "Looking in indexes: https://pypi.org/simple, https://us-python.pkg.dev/colab-wheels/public/simple/\n",
            "Collecting transformers\n",
            "  Downloading transformers-4.25.1-py3-none-any.whl (5.8 MB)\n",
            "\u001b[2K     \u001b[90m━━━━━━━━━━━━━━━━━━━━━━━━━━━━━━━━━━━━━━━━\u001b[0m \u001b[32m5.8/5.8 MB\u001b[0m \u001b[31m81.5 MB/s\u001b[0m eta \u001b[36m0:00:00\u001b[0m\n",
            "\u001b[?25hRequirement already satisfied: pyyaml>=5.1 in /usr/local/lib/python3.8/dist-packages (from transformers) (6.0)\n",
            "Requirement already satisfied: regex!=2019.12.17 in /usr/local/lib/python3.8/dist-packages (from transformers) (2022.6.2)\n",
            "Collecting tokenizers!=0.11.3,<0.14,>=0.11.1\n",
            "  Downloading tokenizers-0.13.2-cp38-cp38-manylinux_2_17_x86_64.manylinux2014_x86_64.whl (7.6 MB)\n",
            "\u001b[2K     \u001b[90m━━━━━━━━━━━━━━━━━━━━━━━━━━━━━━━━━━━━━━━━\u001b[0m \u001b[32m7.6/7.6 MB\u001b[0m \u001b[31m99.3 MB/s\u001b[0m eta \u001b[36m0:00:00\u001b[0m\n",
            "\u001b[?25hRequirement already satisfied: packaging>=20.0 in /usr/local/lib/python3.8/dist-packages (from transformers) (21.3)\n",
            "Requirement already satisfied: tqdm>=4.27 in /usr/local/lib/python3.8/dist-packages (from transformers) (4.64.1)\n",
            "Collecting huggingface-hub<1.0,>=0.10.0\n",
            "  Downloading huggingface_hub-0.11.1-py3-none-any.whl (182 kB)\n",
            "\u001b[2K     \u001b[90m━━━━━━━━━━━━━━━━━━━━━━━━━━━━━━━━━━━━━━\u001b[0m \u001b[32m182.4/182.4 KB\u001b[0m \u001b[31m24.2 MB/s\u001b[0m eta \u001b[36m0:00:00\u001b[0m\n",
            "\u001b[?25hRequirement already satisfied: requests in /usr/local/lib/python3.8/dist-packages (from transformers) (2.25.1)\n",
            "Requirement already satisfied: filelock in /usr/local/lib/python3.8/dist-packages (from transformers) (3.8.2)\n",
            "Requirement already satisfied: numpy>=1.17 in /usr/local/lib/python3.8/dist-packages (from transformers) (1.21.6)\n",
            "Requirement already satisfied: typing-extensions>=3.7.4.3 in /usr/local/lib/python3.8/dist-packages (from huggingface-hub<1.0,>=0.10.0->transformers) (4.4.0)\n",
            "Requirement already satisfied: pyparsing!=3.0.5,>=2.0.2 in /usr/local/lib/python3.8/dist-packages (from packaging>=20.0->transformers) (3.0.9)\n",
            "Requirement already satisfied: urllib3<1.27,>=1.21.1 in /usr/local/lib/python3.8/dist-packages (from requests->transformers) (1.24.3)\n",
            "Requirement already satisfied: idna<3,>=2.5 in /usr/local/lib/python3.8/dist-packages (from requests->transformers) (2.10)\n",
            "Requirement already satisfied: certifi>=2017.4.17 in /usr/local/lib/python3.8/dist-packages (from requests->transformers) (2022.12.7)\n",
            "Requirement already satisfied: chardet<5,>=3.0.2 in /usr/local/lib/python3.8/dist-packages (from requests->transformers) (4.0.0)\n",
            "Installing collected packages: tokenizers, huggingface-hub, transformers\n",
            "Successfully installed huggingface-hub-0.11.1 tokenizers-0.13.2 transformers-4.25.1\n",
            "Looking in indexes: https://pypi.org/simple, https://us-python.pkg.dev/colab-wheels/public/simple/\n",
            "Collecting sentencepiece\n",
            "  Downloading sentencepiece-0.1.97-cp38-cp38-manylinux_2_17_x86_64.manylinux2014_x86_64.whl (1.3 MB)\n",
            "\u001b[2K     \u001b[90m━━━━━━━━━━━━━━━━━━━━━━━━━━━━━━━━━━━━━━━━\u001b[0m \u001b[32m1.3/1.3 MB\u001b[0m \u001b[31m44.4 MB/s\u001b[0m eta \u001b[36m0:00:00\u001b[0m\n",
            "\u001b[?25hRequirement already satisfied: transformers in /usr/local/lib/python3.8/dist-packages (4.25.1)\n",
            "Requirement already satisfied: tokenizers!=0.11.3,<0.14,>=0.11.1 in /usr/local/lib/python3.8/dist-packages (from transformers) (0.13.2)\n",
            "Requirement already satisfied: packaging>=20.0 in /usr/local/lib/python3.8/dist-packages (from transformers) (21.3)\n",
            "Requirement already satisfied: numpy>=1.17 in /usr/local/lib/python3.8/dist-packages (from transformers) (1.21.6)\n",
            "Requirement already satisfied: huggingface-hub<1.0,>=0.10.0 in /usr/local/lib/python3.8/dist-packages (from transformers) (0.11.1)\n",
            "Requirement already satisfied: regex!=2019.12.17 in /usr/local/lib/python3.8/dist-packages (from transformers) (2022.6.2)\n",
            "Requirement already satisfied: tqdm>=4.27 in /usr/local/lib/python3.8/dist-packages (from transformers) (4.64.1)\n",
            "Requirement already satisfied: requests in /usr/local/lib/python3.8/dist-packages (from transformers) (2.25.1)\n",
            "Requirement already satisfied: pyyaml>=5.1 in /usr/local/lib/python3.8/dist-packages (from transformers) (6.0)\n",
            "Requirement already satisfied: filelock in /usr/local/lib/python3.8/dist-packages (from transformers) (3.8.2)\n",
            "Requirement already satisfied: typing-extensions>=3.7.4.3 in /usr/local/lib/python3.8/dist-packages (from huggingface-hub<1.0,>=0.10.0->transformers) (4.4.0)\n",
            "Requirement already satisfied: pyparsing!=3.0.5,>=2.0.2 in /usr/local/lib/python3.8/dist-packages (from packaging>=20.0->transformers) (3.0.9)\n",
            "Requirement already satisfied: chardet<5,>=3.0.2 in /usr/local/lib/python3.8/dist-packages (from requests->transformers) (4.0.0)\n",
            "Requirement already satisfied: certifi>=2017.4.17 in /usr/local/lib/python3.8/dist-packages (from requests->transformers) (2022.12.7)\n",
            "Requirement already satisfied: idna<3,>=2.5 in /usr/local/lib/python3.8/dist-packages (from requests->transformers) (2.10)\n",
            "Requirement already satisfied: urllib3<1.27,>=1.21.1 in /usr/local/lib/python3.8/dist-packages (from requests->transformers) (1.24.3)\n",
            "Installing collected packages: sentencepiece\n",
            "Successfully installed sentencepiece-0.1.97\n"
          ]
        }
      ]
    },
    {
      "cell_type": "code",
      "source": [
        "import torch\n",
        "from torch.utils.data import TensorDataset, DataLoader, RandomSampler, SequentialSampler\n",
        "from transformers import DistilBertTokenizer, DistilBertForSequenceClassification\n",
        "from sklearn.model_selection import train_test_split\n",
        "\n",
        "import pandas as pd\n",
        "import numpy as np\n",
        "\n",
        "from tabulate import tabulate\n",
        "from tqdm import trange\n",
        "import random"
      ],
      "metadata": {
        "id": "uIVc_UdE4kCN",
        "execution": {
          "iopub.status.busy": "2023-01-04T23:01:28.306160Z",
          "iopub.execute_input": "2023-01-04T23:01:28.306474Z",
          "iopub.status.idle": "2023-01-04T23:01:32.169260Z",
          "shell.execute_reply.started": "2023-01-04T23:01:28.306444Z",
          "shell.execute_reply": "2023-01-04T23:01:32.168083Z"
        },
        "trusted": true
      },
      "execution_count": 3,
      "outputs": []
    },
    {
      "cell_type": "markdown",
      "source": [
        "# Dataset"
      ],
      "metadata": {
        "id": "80jAvjjdH1M0"
      }
    },
    {
      "cell_type": "code",
      "source": [
        "from google.colab import drive\n",
        "drive.mount('/content/drive')\n",
        "\n",
        "\n",
        "df = pd.read_csv('/content/drive/My Drive/GCDC_train.csv')\n",
        "\n",
        "df_test = pd.read_csv('/content/drive/My Drive/GCDC_test.csv')"
      ],
      "metadata": {
        "id": "w_AFNkOw4tCq",
        "execution": {
          "iopub.status.busy": "2023-01-04T23:01:32.171218Z",
          "iopub.execute_input": "2023-01-04T23:01:32.171584Z",
          "iopub.status.idle": "2023-01-04T23:01:32.361763Z",
          "shell.execute_reply.started": "2023-01-04T23:01:32.171534Z",
          "shell.execute_reply": "2023-01-04T23:01:32.359708Z"
        },
        "trusted": true,
        "colab": {
          "base_uri": "https://localhost:8080/"
        },
        "outputId": "4cd7b448-b84c-4db5-b5fa-bdbf63af3615"
      },
      "execution_count": 4,
      "outputs": [
        {
          "output_type": "stream",
          "name": "stdout",
          "text": [
            "Mounted at /content/drive\n"
          ]
        }
      ]
    },
    {
      "cell_type": "code",
      "source": [
        "from sklearn.utils import shuffle\n",
        "df = shuffle(df)\n",
        "df['labelA']= df['labelA'].astype(int)\n",
        "df['labelA'] =df['labelA'] - 1\n",
        "df_test['labelA']= df_test['labelA'].astype(int)\n",
        "df_test['labelA'] =df_test['labelA'] - 1\n",
        "print(df['labelA'])"
      ],
      "metadata": {
        "colab": {
          "base_uri": "https://localhost:8080/"
        },
        "id": "ZBcGsUN05b-i",
        "outputId": "477b52e1-8ab2-4c3d-b097-5ca7cbfffeac",
        "execution": {
          "iopub.status.busy": "2023-01-04T23:01:32.364622Z",
          "iopub.execute_input": "2023-01-04T23:01:32.365248Z",
          "iopub.status.idle": "2023-01-04T23:01:32.390152Z",
          "shell.execute_reply.started": "2023-01-04T23:01:32.365209Z",
          "shell.execute_reply": "2023-01-04T23:01:32.389083Z"
        },
        "trusted": true
      },
      "execution_count": 5,
      "outputs": [
        {
          "output_type": "stream",
          "name": "stdout",
          "text": [
            "2555    2\n",
            "3402    0\n",
            "2997    1\n",
            "1251    2\n",
            "551     2\n",
            "       ..\n",
            "1003    2\n",
            "2746    2\n",
            "2162    0\n",
            "2011    0\n",
            "1696    1\n",
            "Name: labelA, Length: 4000, dtype: int64\n"
          ]
        }
      ]
    },
    {
      "cell_type": "code",
      "source": [
        "text = df.text.values\n",
        "labels = df.labelA.values\n",
        "\n",
        "text_eval = df_test.text.values\n",
        "labels_eval = df_test.labelA.values\n"
      ],
      "metadata": {
        "id": "YOOjJIMP7U9h",
        "execution": {
          "iopub.status.busy": "2023-01-04T23:01:32.391697Z",
          "iopub.execute_input": "2023-01-04T23:01:32.392421Z",
          "iopub.status.idle": "2023-01-04T23:01:32.399321Z",
          "shell.execute_reply.started": "2023-01-04T23:01:32.392380Z",
          "shell.execute_reply": "2023-01-04T23:01:32.397679Z"
        },
        "trusted": true
      },
      "execution_count": 6,
      "outputs": []
    },
    {
      "cell_type": "markdown",
      "source": [
        "# Preprocessing"
      ],
      "metadata": {
        "id": "143Dl9FlJA6q"
      }
    },
    {
      "cell_type": "code",
      "source": [
        "tokenizer = DistilBertTokenizer.from_pretrained('distilbert-base-uncased', do_lower_case = True)\n"
      ],
      "metadata": {
        "colab": {
          "base_uri": "https://localhost:8080/",
          "height": 113,
          "referenced_widgets": [
            "89d8dc559fea4803a2cec79b676f4aef",
            "e044799ac08d4aecb84bb1da7e5ff70b",
            "abbb71e1298b45f0bd24fd71277660b7",
            "eb7b6ad5a01c4db184dd7359d6d13a75",
            "c78f817cb3364297af1a7956ba15b9f2",
            "71e759f769de4c5cbff30351fc0a506f",
            "271a082216f24cfe8e10134fd8d3232e",
            "0c9a3d470d31406f8b8eb99af643dc45",
            "a5b56a54e0614e87a387dbe9b383e22b",
            "1d5f1fe211504eafbd564cea0ef8951b",
            "597a50135d0c4cf9bf8d7cd12e6a25a1",
            "65c5d0f555a14f3097a61e40b4812351",
            "405616d80c814fbcb0e6f1a0ca9cbc84",
            "79e527fbd5664372b962635cd89e45b1",
            "f25b01ca35f74815852a0239b0934185",
            "16c4db3badb84c94a133e4f4c6f0427c",
            "8c82c6d01b6f4840ad2713f4f667c6cd",
            "ca7017ed5fd24724a7cae0d4dfbf5773",
            "ecb2f28cbe4745b2b0b98bfbd1fcbe40",
            "018f21252c0a4d149741e23c6de16aa8",
            "7921573c52554fadbcd8ed9634e5b47f",
            "21377b05885e496697bafb9f76196bfb",
            "c77c7119eda842b8a4d4e030efbc658d",
            "6278d64c988349a7a37b9097a5d6055f",
            "7da50af869494207889908fb2182e54a",
            "4aee046f5c9847a7bcda1e27d5bf9010",
            "4b330cfc710a4a7e91bec39b4c71e84c",
            "8e7026f64955427ca48afb5a147ab27c",
            "7ef3784a4b02490a9de0febcf080265b",
            "044274cf26c1430988f464b570ae2f43",
            "ffcc0a36803d4ffca4cff4de0732e9f7",
            "da20df41f50d44d09cdfa7916a08707d",
            "5017f2daab254abd9208bbcffd69e6bb"
          ]
        },
        "id": "Anx253oq5s90",
        "outputId": "5a3e140f-1847-4e25-b1cb-aa5ad044d703",
        "execution": {
          "iopub.status.busy": "2023-01-04T23:01:32.402363Z",
          "iopub.execute_input": "2023-01-04T23:01:32.403857Z",
          "iopub.status.idle": "2023-01-04T23:01:35.209083Z",
          "shell.execute_reply.started": "2023-01-04T23:01:32.403783Z",
          "shell.execute_reply": "2023-01-04T23:01:35.208173Z"
        },
        "trusted": true
      },
      "execution_count": 7,
      "outputs": [
        {
          "output_type": "display_data",
          "data": {
            "text/plain": [
              "Downloading:   0%|          | 0.00/232k [00:00<?, ?B/s]"
            ],
            "application/vnd.jupyter.widget-view+json": {
              "version_major": 2,
              "version_minor": 0,
              "model_id": "89d8dc559fea4803a2cec79b676f4aef"
            }
          },
          "metadata": {}
        },
        {
          "output_type": "display_data",
          "data": {
            "text/plain": [
              "Downloading:   0%|          | 0.00/28.0 [00:00<?, ?B/s]"
            ],
            "application/vnd.jupyter.widget-view+json": {
              "version_major": 2,
              "version_minor": 0,
              "model_id": "65c5d0f555a14f3097a61e40b4812351"
            }
          },
          "metadata": {}
        },
        {
          "output_type": "display_data",
          "data": {
            "text/plain": [
              "Downloading:   0%|          | 0.00/483 [00:00<?, ?B/s]"
            ],
            "application/vnd.jupyter.widget-view+json": {
              "version_major": 2,
              "version_minor": 0,
              "model_id": "c77c7119eda842b8a4d4e030efbc658d"
            }
          },
          "metadata": {}
        }
      ]
    },
    {
      "cell_type": "code",
      "source": [
        "token_id = []\n",
        "attention_masks = []\n",
        "token_id_eval = []\n",
        "attention_masks_eval = []\n",
        "\n",
        "def preprocessing(input_text, tokenizer):\n",
        "  '''\n",
        "  Returns <class transformers.tokenization_utils_base.BatchEncoding> with the following fields:\n",
        "    - input_ids: list of token ids\n",
        "    - token_type_ids: list of token type ids\n",
        "    - attention_mask: list of indices (0,1) specifying which tokens should considered by the model (return_attention_mask = True).\n",
        "  '''\n",
        "  return tokenizer.encode_plus(\n",
        "                        input_text,\n",
        "                        add_special_tokens = True,\n",
        "                        max_length = 400,\n",
        "                        pad_to_max_length = True,\n",
        "                        return_attention_mask = True,\n",
        "                        return_tensors = 'pt'\n",
        "                   )\n",
        "\n",
        "\n",
        "for sample in text:\n",
        "  encoding_dict = preprocessing(sample, tokenizer)\n",
        "  token_id.append(encoding_dict['input_ids']) \n",
        "  attention_masks.append(encoding_dict['attention_mask'])\n",
        "\n",
        "\n",
        "token_id = torch.cat(token_id, dim = 0)\n",
        "attention_masks = torch.cat(attention_masks, dim = 0)\n",
        "labels = torch.tensor(labels)\n",
        "\n",
        "\n",
        "for sample in text_eval:\n",
        "  encoding_dict_eval = preprocessing(sample, tokenizer)\n",
        "  token_id_eval.append(encoding_dict_eval['input_ids']) \n",
        "  attention_masks_eval.append(encoding_dict_eval['attention_mask'])\n",
        "\n",
        "\n",
        "token_id_eval = torch.cat(token_id_eval, dim = 0)\n",
        "attention_masks_eval = torch.cat(attention_masks_eval, dim = 0)\n",
        "labels_eval = torch.tensor(labels_eval)\n",
        "\n"
      ],
      "metadata": {
        "colab": {
          "base_uri": "https://localhost:8080/"
        },
        "id": "HDVLcD7n58hh",
        "outputId": "fd7b2bd1-602e-4d39-bdad-9436046272b9",
        "execution": {
          "iopub.status.busy": "2023-01-04T23:01:35.210493Z",
          "iopub.execute_input": "2023-01-04T23:01:35.211079Z",
          "iopub.status.idle": "2023-01-04T23:01:45.901005Z",
          "shell.execute_reply.started": "2023-01-04T23:01:35.211025Z",
          "shell.execute_reply": "2023-01-04T23:01:45.899901Z"
        },
        "trusted": true
      },
      "execution_count": 8,
      "outputs": [
        {
          "output_type": "stream",
          "name": "stderr",
          "text": [
            "Truncation was not explicitly activated but `max_length` is provided a specific value, please use `truncation=True` to explicitly truncate examples to max length. Defaulting to 'longest_first' truncation strategy. If you encode pairs of sequences (GLUE-style) with the tokenizer you can select this strategy more precisely by providing a specific strategy to `truncation`.\n",
            "/usr/local/lib/python3.8/dist-packages/transformers/tokenization_utils_base.py:2336: FutureWarning: The `pad_to_max_length` argument is deprecated and will be removed in a future version, use `padding=True` or `padding='longest'` to pad to the longest sequence in the batch, or use `padding='max_length'` to pad to a max length. In this case, you can give a specific length with `max_length` (e.g. `max_length=45`) or leave max_length to None to pad to the maximal input size of the model (e.g. 512 for Bert).\n",
            "  warnings.warn(\n"
          ]
        }
      ]
    },
    {
      "cell_type": "markdown",
      "source": [
        "# Data split"
      ],
      "metadata": {
        "id": "3iBdYUuwJMvL"
      }
    },
    {
      "cell_type": "code",
      "source": [
        "val_ratio = 0.2\n",
        "# Recommended batch size: 16, 32. See: https://arxiv.org/pdf/1810.04805.pdf\n",
        "batch_size = 8\n",
        "\n",
        "# Indices of the train and validation splits stratified by labels\n",
        "\n",
        "\n",
        "# Train and validation sets\n",
        "train_set = TensorDataset(token_id, \n",
        "                          attention_masks, \n",
        "                          labels)\n",
        "\n",
        "val_set = TensorDataset(token_id_eval, \n",
        "                        attention_masks_eval, \n",
        "                        labels_eval)\n",
        "\n",
        "# Prepare DataLoader\n",
        "train_dataloader = DataLoader(\n",
        "            train_set,\n",
        "            sampler = RandomSampler(train_set),\n",
        "            batch_size = batch_size\n",
        "        )\n",
        "\n",
        "validation_dataloader = DataLoader(\n",
        "            val_set,\n",
        "            sampler = SequentialSampler(val_set),\n",
        "            batch_size = batch_size\n",
        "        )"
      ],
      "metadata": {
        "id": "D57Hdsrb7mCI",
        "execution": {
          "iopub.status.busy": "2023-01-04T23:01:45.904612Z",
          "iopub.execute_input": "2023-01-04T23:01:45.904972Z",
          "iopub.status.idle": "2023-01-04T23:01:45.915849Z",
          "shell.execute_reply.started": "2023-01-04T23:01:45.904943Z",
          "shell.execute_reply": "2023-01-04T23:01:45.914782Z"
        },
        "trusted": true
      },
      "execution_count": 9,
      "outputs": []
    },
    {
      "cell_type": "markdown",
      "source": [
        "# Train"
      ],
      "metadata": {
        "id": "89UvNU0WJX0q"
      }
    },
    {
      "cell_type": "code",
      "source": [
        "# Load the BertForSequenceClassification model\n",
        "model = DistilBertForSequenceClassification.from_pretrained(\n",
        "    'distilbert-base-uncased',\n",
        "    num_labels = 3,\n",
        "    output_attentions = False,\n",
        "    output_hidden_states = False,\n",
        ")\n",
        "\n",
        "# Recommended learning rates (Adam): 5e-5, 3e-5, 2e-5. See: https://arxiv.org/pdf/1810.04805.pdf\n",
        "param_optimizer = list(model.named_parameters())\n",
        "no_decay = ['bias', 'LayerNorm.bias', 'LayerNorm.weight']\n",
        "optimizer_grouped_parameters = [\n",
        "                                {'params': [p for n, p in param_optimizer if not any(nd in n for nd in no_decay)], 'weight_decay': 0.01},\n",
        "                                {'params': [p for n, p in param_optimizer if any(nd in n for nd in no_decay)], 'weight_decay':0.0}\n",
        "]\n",
        "\n",
        "optimizer = torch.optim.AdamW(model.parameters(), \n",
        "                              lr = 1e-5,\n",
        "                              eps = 1e-08\n",
        "                              )\n",
        "\n",
        "\n",
        "device = torch.device(\"cuda:0\" if torch.cuda.is_available() else \"cpu\")\n",
        "device\n",
        "model = model.to(device)"
      ],
      "metadata": {
        "colab": {
          "referenced_widgets": [
            "097f4b7c2a794cd981492c03e8ce962c",
            "1882d94a1a934e89b549a90775b52e54",
            "9b0ca75de18b4b3ba3b1ce021997a48e",
            "434b01d3717d4ca194e6feaf940a0f37",
            "6c78598d89334bdf928882e69204fdb6",
            "d0ed3cb6e6c54c9ea6dc4dd8826dbc50",
            "e73f648d12924be4851235ccc8b61258",
            "a909b447ef7d472a961d8e91e9c10411",
            "38adea5d2a23414f88b566b5986d3500",
            "9ba013ae980a4f408cc6bfc9770f96d8",
            "8f6650ff03764bf7bdeb632b07c904e8"
          ],
          "base_uri": "https://localhost:8080/",
          "height": 156
        },
        "id": "JP4HTp4F8Xed",
        "outputId": "ba145d2f-7fab-46ed-e820-ecc7db0ca7e9",
        "execution": {
          "iopub.status.busy": "2023-01-04T23:01:45.917374Z",
          "iopub.execute_input": "2023-01-04T23:01:45.918336Z",
          "iopub.status.idle": "2023-01-04T23:02:12.944352Z",
          "shell.execute_reply.started": "2023-01-04T23:01:45.918295Z",
          "shell.execute_reply": "2023-01-04T23:02:12.943336Z"
        },
        "trusted": true
      },
      "execution_count": 10,
      "outputs": [
        {
          "output_type": "display_data",
          "data": {
            "text/plain": [
              "Downloading:   0%|          | 0.00/268M [00:00<?, ?B/s]"
            ],
            "application/vnd.jupyter.widget-view+json": {
              "version_major": 2,
              "version_minor": 0,
              "model_id": "097f4b7c2a794cd981492c03e8ce962c"
            }
          },
          "metadata": {}
        },
        {
          "output_type": "stream",
          "name": "stderr",
          "text": [
            "Some weights of the model checkpoint at distilbert-base-uncased were not used when initializing DistilBertForSequenceClassification: ['vocab_projector.bias', 'vocab_transform.bias', 'vocab_transform.weight', 'vocab_layer_norm.weight', 'vocab_layer_norm.bias', 'vocab_projector.weight']\n",
            "- This IS expected if you are initializing DistilBertForSequenceClassification from the checkpoint of a model trained on another task or with another architecture (e.g. initializing a BertForSequenceClassification model from a BertForPreTraining model).\n",
            "- This IS NOT expected if you are initializing DistilBertForSequenceClassification from the checkpoint of a model that you expect to be exactly identical (initializing a BertForSequenceClassification model from a BertForSequenceClassification model).\n",
            "Some weights of DistilBertForSequenceClassification were not initialized from the model checkpoint at distilbert-base-uncased and are newly initialized: ['pre_classifier.bias', 'classifier.weight', 'classifier.bias', 'pre_classifier.weight']\n",
            "You should probably TRAIN this model on a down-stream task to be able to use it for predictions and inference.\n"
          ]
        }
      ]
    },
    {
      "cell_type": "code",
      "source": [
        "from sklearn import metrics\n",
        "device = torch.device('cuda' if torch.cuda.is_available() else 'cpu')\n",
        "device\n",
        "predictions , true_labels = [], []\n",
        "\n",
        "# Recommended number of epochs: 2, 3, 4. See: https://arxiv.org/pdf/1810.04805.pdf\n",
        "epochs = 4\n",
        "\n",
        "for _ in trange(epochs, desc = 'Epoch'):\n",
        "    \n",
        "    # ========== Training ==========\n",
        "    \n",
        "    # Set model to training mode\n",
        "    model.train()\n",
        "    \n",
        "    # Tracking variables\n",
        "    acc = 0\n",
        "    tr_loss = 0\n",
        "    nb_tr_examples, nb_tr_steps = 0, 0\n",
        "    \n",
        "    for step, batch in enumerate(train_dataloader):\n",
        "        batch = tuple(t.to(device) for t in batch)\n",
        "        b_input_ids, b_input_mask, b_labels = batch\n",
        "        optimizer.zero_grad()\n",
        "        # Forward pass\n",
        "        train_output = model(b_input_ids, \n",
        "                             attention_mask = b_input_mask, \n",
        "                             labels = b_labels)  \n",
        "        # Backward pass\n",
        "        train_output.loss.backward()\n",
        "        optimizer.step()\n",
        "        # Update tracking variables\n",
        "        tr_loss += train_output.loss.item()\n",
        "        nb_tr_examples += b_input_ids.size(0)\n",
        "        nb_tr_steps += 1\n",
        "        \n",
        "    \n",
        "    # ========== Validation ==========\n",
        "    nb_tr_eval = 0\n",
        "    # Set model to evaluation mode\n",
        "    model.eval()\n",
        "\n",
        "    \n",
        "    for batch in validation_dataloader:\n",
        "        batch = tuple(t.to(device) for t in batch)\n",
        "        b_input_ids, b_input_mask, b_labels = batch\n",
        "        with torch.no_grad():\n",
        "          # Forward pass\n",
        "          eval_output = model(b_input_ids, \n",
        "                              attention_mask = b_input_mask)\n",
        "        b_labels = b_labels.cpu().detach().numpy()\n",
        "        logits = eval_output.logits.detach().cpu().numpy()\n",
        "       \n",
        "        preds = np.argmax(logits, axis = 1).flatten()\n",
        "        b_labels= b_labels.flatten()\n",
        "        \n",
        "        predictions.extend(preds)\n",
        "       # print(predictions)\n",
        "       # Store predictions and true labels\n",
        "       # predictions.append(logits)\n",
        "        true_labels.extend(b_labels)\n",
        "\n",
        "        accuracy = metrics.accuracy_score(b_labels,preds )\n",
        "        acc += accuracy\n",
        "       \n",
        "        nb_tr_eval += 1\n",
        "\n",
        "    \n",
        "    print('\\n\\t - Accuracy: {:.4f}'.format(acc / len(validation_dataloader)))\n",
        "    print('\\n\\t - Train loss: {:.4f}'.format(tr_loss / nb_tr_steps))"
      ],
      "metadata": {
        "id": "JshtbC9l8l1Z",
        "colab": {
          "base_uri": "https://localhost:8080/"
        },
        "outputId": "8ebf742a-e3fc-4756-a0f8-c8145bf8b40a",
        "execution": {
          "iopub.status.busy": "2023-01-04T23:02:12.945973Z",
          "iopub.execute_input": "2023-01-04T23:02:12.946353Z",
          "iopub.status.idle": "2023-01-04T23:22:43.963948Z",
          "shell.execute_reply.started": "2023-01-04T23:02:12.946316Z",
          "shell.execute_reply": "2023-01-04T23:22:43.962924Z"
        },
        "trusted": true
      },
      "execution_count": 12,
      "outputs": [
        {
          "output_type": "stream",
          "name": "stderr",
          "text": [
            "Epoch:  25%|██▌       | 1/4 [02:40<08:01, 160.62s/it]"
          ]
        },
        {
          "output_type": "stream",
          "name": "stdout",
          "text": [
            "\n",
            "\t - Accuracy: 0.5850\n",
            "\n",
            "\t - Train loss: 0.9586\n"
          ]
        },
        {
          "output_type": "stream",
          "name": "stderr",
          "text": [
            "\rEpoch:  50%|█████     | 2/4 [05:17<05:17, 158.69s/it]"
          ]
        },
        {
          "output_type": "stream",
          "name": "stdout",
          "text": [
            "\n",
            "\t - Accuracy: 0.5837\n",
            "\n",
            "\t - Train loss: 0.8414\n"
          ]
        },
        {
          "output_type": "stream",
          "name": "stderr",
          "text": [
            "\rEpoch:  75%|███████▌  | 3/4 [07:55<02:38, 158.09s/it]"
          ]
        },
        {
          "output_type": "stream",
          "name": "stdout",
          "text": [
            "\n",
            "\t - Accuracy: 0.5825\n",
            "\n",
            "\t - Train loss: 0.7056\n"
          ]
        },
        {
          "output_type": "stream",
          "name": "stderr",
          "text": [
            "Epoch: 100%|██████████| 4/4 [10:32<00:00, 158.19s/it]"
          ]
        },
        {
          "output_type": "stream",
          "name": "stdout",
          "text": [
            "\n",
            "\t - Accuracy: 0.5650\n",
            "\n",
            "\t - Train loss: 0.4948\n"
          ]
        },
        {
          "output_type": "stream",
          "name": "stderr",
          "text": [
            "\n"
          ]
        }
      ]
    },
    {
      "cell_type": "code",
      "source": [
        "print(true_labels)\n",
        "print(predictions)"
      ],
      "metadata": {
        "id": "oqOwQRLq8wtB",
        "execution": {
          "iopub.status.busy": "2023-01-04T23:24:02.026433Z",
          "iopub.execute_input": "2023-01-04T23:24:02.026817Z",
          "iopub.status.idle": "2023-01-04T23:24:02.034193Z",
          "shell.execute_reply.started": "2023-01-04T23:24:02.026785Z",
          "shell.execute_reply": "2023-01-04T23:24:02.033009Z"
        },
        "trusted": true,
        "colab": {
          "base_uri": "https://localhost:8080/"
        },
        "outputId": "e2bee5e7-1653-46e7-bc8f-f7bc8517023c"
      },
      "execution_count": 13,
      "outputs": [
        {
          "output_type": "stream",
          "name": "stdout",
          "text": [
            "[2, 2, 2, 2, 1, 0, 2, 1, 2, 2, 1, 2, 2, 2, 2, 1, 1, 1, 0, 2, 2, 0, 1, 2, 0, 2, 0, 0, 2, 1, 2, 0, 0, 0, 2, 2, 2, 2, 2, 2, 1, 2, 2, 0, 0, 1, 2, 2, 1, 0, 0, 1, 2, 2, 1, 0, 2, 2, 2, 2, 2, 0, 0, 0, 2, 0, 1, 2, 2, 2, 2, 2, 2, 2, 2, 1, 0, 2, 0, 2, 0, 2, 1, 0, 2, 1, 0, 2, 2, 1, 0, 2, 0, 2, 2, 0, 0, 1, 2, 1, 2, 2, 2, 2, 2, 2, 2, 0, 2, 2, 2, 2, 2, 2, 2, 0, 2, 2, 2, 0, 1, 0, 2, 1, 1, 1, 2, 2, 1, 0, 1, 2, 0, 0, 2, 0, 2, 2, 2, 1, 2, 0, 2, 2, 2, 0, 1, 2, 1, 1, 2, 0, 2, 2, 1, 2, 2, 2, 0, 2, 2, 2, 0, 0, 0, 1, 0, 1, 0, 2, 0, 2, 2, 2, 2, 2, 1, 2, 0, 2, 2, 2, 2, 2, 0, 0, 0, 2, 1, 1, 1, 0, 0, 1, 2, 2, 2, 2, 2, 2, 2, 0, 2, 0, 2, 0, 1, 1, 2, 2, 2, 1, 2, 1, 0, 0, 0, 0, 0, 2, 2, 2, 2, 2, 1, 1, 0, 0, 2, 2, 1, 2, 2, 2, 0, 2, 2, 1, 1, 1, 1, 2, 2, 1, 2, 2, 1, 0, 1, 2, 2, 2, 1, 1, 0, 0, 2, 2, 0, 0, 1, 1, 1, 0, 2, 2, 0, 0, 0, 2, 0, 1, 2, 0, 2, 0, 2, 2, 0, 0, 1, 2, 0, 1, 0, 2, 2, 0, 1, 1, 2, 2, 2, 0, 0, 1, 2, 2, 2, 2, 2, 0, 2, 1, 0, 2, 0, 2, 1, 2, 1, 0, 0, 1, 2, 2, 2, 2, 0, 2, 2, 2, 2, 0, 0, 1, 2, 1, 1, 1, 1, 2, 2, 0, 2, 1, 1, 1, 2, 0, 1, 2, 1, 1, 0, 1, 2, 2, 0, 2, 0, 2, 1, 0, 1, 2, 0, 2, 2, 0, 0, 2, 2, 0, 1, 0, 2, 2, 1, 0, 1, 0, 0, 0, 0, 0, 0, 0, 2, 1, 0, 2, 2, 2, 2, 1, 2, 2, 0, 2, 2, 0, 1, 2, 2, 2, 0, 2, 1, 0, 1, 0, 1, 1, 0, 2, 2, 0, 2, 2, 0, 0, 0, 1, 0, 2, 2, 2, 0, 2, 0, 2, 0, 2, 2, 0, 2, 0, 1, 2, 1, 0, 1, 2, 1, 0, 1, 0, 0, 1, 2, 0, 0, 2, 2, 2, 2, 2, 1, 0, 0, 1, 1, 2, 2, 2, 0, 0, 1, 2, 1, 0, 1, 2, 1, 2, 2, 2, 2, 0, 0, 0, 1, 0, 2, 1, 2, 0, 1, 0, 1, 0, 2, 2, 0, 2, 2, 2, 2, 0, 0, 0, 0, 1, 0, 0, 1, 0, 0, 0, 0, 0, 0, 0, 0, 0, 1, 2, 2, 1, 2, 0, 2, 0, 0, 2, 2, 0, 1, 0, 0, 0, 2, 0, 2, 2, 2, 0, 2, 1, 1, 1, 1, 2, 2, 0, 0, 2, 0, 0, 0, 2, 0, 2, 0, 1, 0, 2, 2, 0, 1, 2, 1, 2, 2, 0, 2, 0, 2, 0, 2, 0, 0, 1, 0, 0, 2, 2, 0, 0, 2, 1, 0, 0, 0, 2, 0, 2, 2, 0, 2, 0, 2, 1, 2, 1, 1, 1, 2, 2, 2, 2, 2, 1, 1, 0, 0, 2, 0, 2, 0, 0, 0, 2, 2, 2, 1, 2, 0, 0, 1, 2, 0, 2, 1, 2, 2, 0, 2, 2, 2, 2, 2, 0, 2, 2, 0, 2, 0, 1, 2, 2, 2, 2, 2, 2, 0, 2, 2, 2, 2, 1, 2, 1, 2, 2, 1, 1, 0, 0, 2, 0, 2, 1, 2, 2, 2, 1, 1, 2, 0, 1, 2, 0, 1, 1, 2, 2, 1, 2, 1, 1, 0, 2, 2, 1, 2, 2, 1, 2, 2, 1, 1, 0, 2, 0, 2, 1, 2, 1, 2, 1, 0, 2, 0, 2, 0, 0, 2, 2, 0, 2, 0, 2, 2, 0, 2, 2, 2, 0, 2, 0, 2, 0, 0, 2, 1, 2, 1, 2, 2, 2, 2, 2, 1, 1, 1, 2, 1, 2, 2, 2, 2, 2, 0, 2, 2, 0, 2, 2, 2, 0, 2, 2, 2, 0, 1, 2, 2, 0, 0, 0, 2, 1, 1, 1, 0, 0, 0, 2, 2, 2, 0, 0, 0, 2, 2, 1, 0, 2, 0, 2, 1, 1, 2, 2, 2, 1, 1, 2, 2, 2, 2, 2, 2, 0, 0, 0, 2, 0, 2, 2, 1, 0, 2, 2, 1, 2, 2, 1, 2, 2, 2, 2, 1, 0, 2, 1, 2, 2, 1, 2, 2, 2, 2, 1, 1, 1, 0, 2, 2, 0, 1, 2, 0, 2, 0, 0, 2, 1, 2, 0, 0, 0, 2, 2, 2, 2, 2, 2, 1, 2, 2, 0, 0, 1, 2, 2, 1, 0, 0, 1, 2, 2, 1, 0, 2, 2, 2, 2, 2, 0, 0, 0, 2, 0, 1, 2, 2, 2, 2, 2, 2, 2, 2, 1, 0, 2, 0, 2, 0, 2, 1, 0, 2, 1, 0, 2, 2, 1, 0, 2, 0, 2, 2, 0, 0, 1, 2, 1, 2, 2, 2, 2, 2, 2, 2, 0, 2, 2, 2, 2, 2, 2, 2, 0, 2, 2, 2, 0, 1, 0, 2, 1, 1, 1, 2, 2, 1, 0, 1, 2, 0, 0, 2, 0, 2, 2, 2, 1, 2, 0, 2, 2, 2, 0, 1, 2, 1, 1, 2, 0, 2, 2, 1, 2, 2, 2, 0, 2, 2, 2, 0, 0, 0, 1, 0, 1, 0, 2, 0, 2, 2, 2, 2, 2, 1, 2, 0, 2, 2, 2, 2, 2, 0, 0, 0, 2, 1, 1, 1, 0, 0, 1, 2, 2, 2, 2, 2, 2, 2, 0, 2, 0, 2, 0, 1, 1, 2, 2, 2, 1, 2, 1, 0, 0, 0, 0, 0, 2, 2, 2, 2, 2, 1, 1, 0, 0, 2, 2, 1, 2, 2, 2, 0, 2, 2, 1, 1, 1, 1, 2, 2, 1, 2, 2, 1, 0, 1, 2, 2, 2, 1, 1, 0, 0, 2, 2, 0, 0, 1, 1, 1, 0, 2, 2, 0, 0, 0, 2, 0, 1, 2, 0, 2, 0, 2, 2, 0, 0, 1, 2, 0, 1, 0, 2, 2, 0, 1, 1, 2, 2, 2, 0, 0, 1, 2, 2, 2, 2, 2, 0, 2, 1, 0, 2, 0, 2, 1, 2, 1, 0, 0, 1, 2, 2, 2, 2, 0, 2, 2, 2, 2, 0, 0, 1, 2, 1, 1, 1, 1, 2, 2, 0, 2, 1, 1, 1, 2, 0, 1, 2, 1, 1, 0, 1, 2, 2, 0, 2, 0, 2, 1, 0, 1, 2, 0, 2, 2, 0, 0, 2, 2, 0, 1, 0, 2, 2, 1, 0, 1, 0, 0, 0, 0, 0, 0, 0, 2, 1, 0, 2, 2, 2, 2, 1, 2, 2, 0, 2, 2, 0, 1, 2, 2, 2, 0, 2, 1, 0, 1, 0, 1, 1, 0, 2, 2, 0, 2, 2, 0, 0, 0, 1, 0, 2, 2, 2, 0, 2, 0, 2, 0, 2, 2, 0, 2, 0, 1, 2, 1, 0, 1, 2, 1, 0, 1, 0, 0, 1, 2, 0, 0, 2, 2, 2, 2, 2, 1, 0, 0, 1, 1, 2, 2, 2, 0, 0, 1, 2, 1, 0, 1, 2, 1, 2, 2, 2, 2, 0, 0, 0, 1, 0, 2, 1, 2, 0, 1, 0, 1, 0, 2, 2, 0, 2, 2, 2, 2, 0, 0, 0, 0, 1, 0, 0, 1, 0, 0, 0, 0, 0, 0, 0, 0, 0, 1, 2, 2, 1, 2, 0, 2, 0, 0, 2, 2, 0, 1, 0, 0, 0, 2, 0, 2, 2, 2, 0, 2, 1, 1, 1, 1, 2, 2, 0, 0, 2, 0, 0, 0, 2, 0, 2, 0, 1, 0, 2, 2, 0, 1, 2, 1, 2, 2, 0, 2, 0, 2, 0, 2, 0, 0, 1, 0, 0, 2, 2, 0, 0, 2, 1, 0, 0, 0, 2, 0, 2, 2, 0, 2, 0, 2, 1, 2, 1, 1, 1, 2, 2, 2, 2, 2, 1, 1, 0, 0, 2, 0, 2, 0, 0, 0, 2, 2, 2, 1, 2, 0, 0, 1, 2, 0, 2, 1, 2, 2, 0, 2, 2, 2, 2, 2, 0, 2, 2, 0, 2, 0, 1, 2, 2, 2, 2, 2, 2, 0, 2, 2, 2, 2, 1, 2, 1, 2, 2, 1, 1, 0, 0, 2, 0, 2, 1, 2, 2, 2, 1, 1, 2, 0, 1, 2, 0, 1, 1, 2, 2, 1, 2, 1, 1, 0, 2, 2, 1, 2, 2, 1, 2, 2, 1, 1, 0, 2, 0, 2, 1, 2, 1, 2, 1, 0, 2, 0, 2, 0, 0, 2, 2, 0, 2, 0, 2, 2, 0, 2, 2, 2, 0, 2, 0, 2, 0, 0, 2, 1, 2, 1, 2, 2, 2, 2, 2, 1, 1, 1, 2, 1, 2, 2, 2, 2, 2, 0, 2, 2, 0, 2, 2, 2, 0, 2, 2, 2, 0, 1, 2, 2, 0, 0, 0, 2, 1, 1, 1, 0, 0, 0, 2, 2, 2, 0, 0, 0, 2, 2, 1, 0, 2, 0, 2, 1, 1, 2, 2, 2, 1, 1, 2, 2, 2, 2, 2, 2, 0, 0, 0, 2, 0, 2, 2, 1, 0, 2, 2, 1, 2, 2, 1, 2, 2, 2, 2, 1, 0, 2, 1, 2, 2, 1, 2, 2, 2, 2, 1, 1, 1, 0, 2, 2, 0, 1, 2, 0, 2, 0, 0, 2, 1, 2, 0, 0, 0, 2, 2, 2, 2, 2, 2, 1, 2, 2, 0, 0, 1, 2, 2, 1, 0, 0, 1, 2, 2, 1, 0, 2, 2, 2, 2, 2, 0, 0, 0, 2, 0, 1, 2, 2, 2, 2, 2, 2, 2, 2, 1, 0, 2, 0, 2, 0, 2, 1, 0, 2, 1, 0, 2, 2, 1, 0, 2, 0, 2, 2, 0, 0, 1, 2, 1, 2, 2, 2, 2, 2, 2, 2, 0, 2, 2, 2, 2, 2, 2, 2, 0, 2, 2, 2, 0, 1, 0, 2, 1, 1, 1, 2, 2, 1, 0, 1, 2, 0, 0, 2, 0, 2, 2, 2, 1, 2, 0, 2, 2, 2, 0, 1, 2, 1, 1, 2, 0, 2, 2, 1, 2, 2, 2, 0, 2, 2, 2, 0, 0, 0, 1, 0, 1, 0, 2, 0, 2, 2, 2, 2, 2, 1, 2, 0, 2, 2, 2, 2, 2, 0, 0, 0, 2, 1, 1, 1, 0, 0, 1, 2, 2, 2, 2, 2, 2, 2, 0, 2, 0, 2, 0, 1, 1, 2, 2, 2, 1, 2, 1, 0, 0, 0, 0, 0, 2, 2, 2, 2, 2, 1, 1, 0, 0, 2, 2, 1, 2, 2, 2, 0, 2, 2, 1, 1, 1, 1, 2, 2, 1, 2, 2, 1, 0, 1, 2, 2, 2, 1, 1, 0, 0, 2, 2, 0, 0, 1, 1, 1, 0, 2, 2, 0, 0, 0, 2, 0, 1, 2, 0, 2, 0, 2, 2, 0, 0, 1, 2, 0, 1, 0, 2, 2, 0, 1, 1, 2, 2, 2, 0, 0, 1, 2, 2, 2, 2, 2, 0, 2, 1, 0, 2, 0, 2, 1, 2, 1, 0, 0, 1, 2, 2, 2, 2, 0, 2, 2, 2, 2, 0, 0, 1, 2, 1, 1, 1, 1, 2, 2, 0, 2, 1, 1, 1, 2, 0, 1, 2, 1, 1, 0, 1, 2, 2, 0, 2, 0, 2, 1, 0, 1, 2, 0, 2, 2, 0, 0, 2, 2, 0, 1, 0, 2, 2, 1, 0, 1, 0, 0, 0, 0, 0, 0, 0, 2, 1, 0, 2, 2, 2, 2, 1, 2, 2, 0, 2, 2, 0, 1, 2, 2, 2, 0, 2, 1, 0, 1, 0, 1, 1, 0, 2, 2, 0, 2, 2, 0, 0, 0, 1, 0, 2, 2, 2, 0, 2, 0, 2, 0, 2, 2, 0, 2, 0, 1, 2, 1, 0, 1, 2, 1, 0, 1, 0, 0, 1, 2, 0, 0, 2, 2, 2, 2, 2, 1, 0, 0, 1, 1, 2, 2, 2, 0, 0, 1, 2, 1, 0, 1, 2, 1, 2, 2, 2, 2, 0, 0, 0, 1, 0, 2, 1, 2, 0, 1, 0, 1, 0, 2, 2, 0, 2, 2, 2, 2, 0, 0, 0, 0, 1, 0, 0, 1, 0, 0, 0, 0, 0, 0, 0, 0, 0, 1, 2, 2, 1, 2, 0, 2, 0, 0, 2, 2, 0, 1, 0, 0, 0, 2, 0, 2, 2, 2, 0, 2, 1, 1, 1, 1, 2, 2, 0, 0, 2, 0, 0, 0, 2, 0, 2, 0, 1, 0, 2, 2, 0, 1, 2, 1, 2, 2, 0, 2, 0, 2, 0, 2, 0, 0, 1, 0, 0, 2, 2, 0, 0, 2, 1, 0, 0, 0, 2, 0, 2, 2, 0, 2, 0, 2, 1, 2, 1, 1, 1, 2, 2, 2, 2, 2, 1, 1, 0, 0, 2, 0, 2, 0, 0, 0, 2, 2, 2, 1, 2, 0, 0, 1, 2, 0, 2, 1, 2, 2, 0, 2, 2, 2, 2, 2, 0, 2, 2, 0, 2, 0, 1, 2, 2, 2, 2, 2, 2, 0, 2, 2, 2, 2, 1, 2, 1, 2, 2, 1, 1, 0, 0, 2, 0, 2, 1, 2, 2, 2, 1, 1, 2, 0, 1, 2, 0, 1, 1, 2, 2, 1, 2, 1, 1, 0, 2, 2, 1, 2, 2, 1, 2, 2, 1, 1, 0, 2, 0, 2, 1, 2, 1, 2, 1, 0, 2, 0, 2, 0, 0, 2, 2, 0, 2, 0, 2, 2, 0, 2, 2, 2, 0, 2, 0, 2, 0, 0, 2, 1, 2, 1, 2, 2, 2, 2, 2, 1, 1, 1, 2, 1, 2, 2, 2, 2, 2, 0, 2, 2, 0, 2, 2, 2, 0, 2, 2, 2, 0, 1, 2, 2, 0, 0, 0, 2, 1, 1, 1, 0, 0, 0, 2, 2, 2, 0, 0, 0, 2, 2, 1, 0, 2, 0, 2, 1, 1, 2, 2, 2, 1, 1, 2, 2, 2, 2, 2, 2, 0, 0, 0, 2, 0, 2, 2, 1, 0, 2, 2, 1, 2, 2, 1, 2, 2, 2, 2, 1, 0, 2, 1, 2, 2, 1, 2, 2, 2, 2, 1, 1, 1, 0, 2, 2, 0, 1, 2, 0, 2, 0, 0, 2, 1, 2, 0, 0, 0, 2, 2, 2, 2, 2, 2, 1, 2, 2, 0, 0, 1, 2, 2, 1, 0, 0, 1, 2, 2, 1, 0, 2, 2, 2, 2, 2, 0, 0, 0, 2, 0, 1, 2, 2, 2, 2, 2, 2, 2, 2, 1, 0, 2, 0, 2, 0, 2, 1, 0, 2, 1, 0, 2, 2, 1, 0, 2, 0, 2, 2, 0, 0, 1, 2, 1, 2, 2, 2, 2, 2, 2, 2, 0, 2, 2, 2, 2, 2, 2, 2, 0, 2, 2, 2, 0, 1, 0, 2, 1, 1, 1, 2, 2, 1, 0, 1, 2, 0, 0, 2, 0, 2, 2, 2, 1, 2, 0, 2, 2, 2, 0, 1, 2, 1, 1, 2, 0, 2, 2, 1, 2, 2, 2, 0, 2, 2, 2, 0, 0, 0, 1, 0, 1, 0, 2, 0, 2, 2, 2, 2, 2, 1, 2, 0, 2, 2, 2, 2, 2, 0, 0, 0, 2, 1, 1, 1, 0, 0, 1, 2, 2, 2, 2, 2, 2, 2, 0, 2, 0, 2, 0, 1, 1, 2, 2, 2, 1, 2, 1, 0, 0, 0, 0, 0, 2, 2, 2, 2, 2, 1, 1, 0, 0, 2, 2, 1, 2, 2, 2, 0, 2, 2, 1, 1, 1, 1, 2, 2, 1, 2, 2, 1, 0, 1, 2, 2, 2, 1, 1, 0, 0, 2, 2, 0, 0, 1, 1, 1, 0, 2, 2, 0, 0, 0, 2, 0, 1, 2, 0, 2, 0, 2, 2, 0, 0, 1, 2, 0, 1, 0, 2, 2, 0, 1, 1, 2, 2, 2, 0, 0, 1, 2, 2, 2, 2, 2, 0, 2, 1, 0, 2, 0, 2, 1, 2, 1, 0, 0, 1, 2, 2, 2, 2, 0, 2, 2, 2, 2, 0, 0, 1, 2, 1, 1, 1, 1, 2, 2, 0, 2, 1, 1, 1, 2, 0, 1, 2, 1, 1, 0, 1, 2, 2, 0, 2, 0, 2, 1, 0, 1, 2, 0, 2, 2, 0, 0, 2, 2, 0, 1, 0, 2, 2, 1, 0, 1, 0, 0, 0, 0, 0, 0, 0, 2, 1, 0, 2, 2, 2, 2, 1, 2, 2, 0, 2, 2, 0, 1, 2, 2, 2, 0, 2, 1, 0, 1, 0, 1, 1, 0, 2, 2, 0, 2, 2, 0, 0, 0, 1, 0, 2, 2, 2, 0, 2, 0, 2, 0, 2, 2, 0, 2, 0, 1, 2, 1, 0, 1, 2, 1, 0, 1, 0, 0, 1, 2, 0, 0, 2, 2, 2, 2, 2, 1, 0, 0, 1, 1, 2, 2, 2, 0, 0, 1, 2, 1, 0, 1, 2, 1, 2, 2, 2, 2, 0, 0, 0, 1, 0, 2, 1, 2, 0, 1, 0, 1, 0, 2, 2, 0, 2, 2, 2, 2, 0, 0, 0, 0, 1, 0, 0, 1, 0, 0, 0, 0, 0, 0, 0, 0, 0, 1, 2, 2, 1, 2, 0, 2, 0, 0, 2, 2, 0, 1, 0, 0, 0, 2, 0, 2, 2, 2, 0, 2, 1, 1, 1, 1, 2, 2, 0, 0, 2, 0, 0, 0, 2, 0, 2, 0, 1, 0, 2, 2, 0, 1, 2, 1, 2, 2, 0, 2, 0, 2, 0, 2, 0, 0, 1, 0, 0, 2, 2, 0, 0, 2, 1, 0, 0, 0, 2, 0, 2, 2, 0, 2, 0, 2, 1, 2, 1, 1, 1, 2, 2, 2, 2, 2, 1, 1, 0, 0, 2, 0, 2, 0, 0, 0, 2, 2, 2, 1, 2, 0, 0, 1, 2, 0, 2, 1, 2, 2, 0, 2, 2, 2, 2, 2, 0, 2, 2, 0, 2, 0, 1, 2, 2, 2, 2, 2, 2, 0, 2, 2, 2, 2, 1, 2, 1, 2, 2, 1, 1, 0, 0, 2, 0, 2, 1, 2, 2, 2, 1, 1, 2, 0, 1, 2, 0, 1, 1, 2, 2, 1, 2, 1, 1, 0, 2, 2, 1, 2, 2, 1, 2, 2, 1, 1, 0, 2, 0, 2, 1, 2, 1, 2, 1, 0, 2, 0, 2, 0, 0, 2, 2, 0, 2, 0, 2, 2, 0, 2, 2, 2, 0, 2, 0, 2, 0, 0, 2, 1, 2, 1, 2, 2, 2, 2, 2, 1, 1, 1, 2, 1, 2, 2, 2, 2, 2, 0, 2, 2, 0, 2, 2, 2, 0, 2, 2, 2, 0, 1, 2, 2, 0, 0, 0, 2, 1, 1, 1, 0, 0, 0, 2, 2, 2, 0, 0, 0, 2, 2, 1, 0, 2, 0, 2, 1, 1, 2, 2, 2, 1, 1, 2, 2, 2, 2, 2, 2, 0, 0, 0, 2, 0, 2, 2, 1, 0, 2, 2, 1, 2, 2, 1]\n",
            "[2, 2, 2, 2, 0, 0, 2, 2, 2, 2, 2, 0, 2, 2, 2, 2, 2, 2, 2, 2, 2, 2, 2, 2, 2, 2, 2, 2, 2, 2, 2, 2, 0, 2, 2, 2, 2, 2, 2, 2, 0, 2, 2, 0, 0, 2, 2, 2, 2, 2, 2, 2, 2, 2, 2, 2, 2, 2, 2, 2, 2, 2, 2, 2, 2, 2, 2, 2, 2, 2, 2, 2, 2, 2, 2, 2, 0, 0, 2, 2, 2, 2, 2, 2, 2, 2, 2, 2, 2, 0, 0, 2, 0, 2, 2, 0, 0, 0, 2, 0, 2, 2, 2, 2, 2, 2, 2, 2, 2, 2, 2, 2, 2, 2, 2, 0, 2, 2, 2, 2, 2, 0, 2, 2, 2, 2, 2, 2, 2, 2, 2, 2, 0, 0, 2, 2, 2, 0, 2, 2, 2, 2, 2, 2, 2, 0, 0, 2, 2, 2, 2, 2, 2, 2, 2, 2, 2, 2, 0, 2, 2, 2, 0, 0, 2, 2, 2, 2, 0, 2, 2, 2, 2, 2, 2, 2, 2, 2, 2, 2, 2, 2, 2, 2, 2, 2, 2, 2, 2, 0, 2, 2, 0, 2, 2, 2, 2, 2, 2, 2, 2, 2, 2, 2, 2, 0, 2, 2, 2, 2, 2, 2, 2, 2, 0, 2, 2, 2, 0, 2, 2, 2, 2, 2, 2, 2, 2, 0, 2, 2, 2, 2, 2, 2, 2, 2, 2, 2, 2, 2, 2, 2, 2, 0, 2, 2, 0, 2, 2, 2, 2, 2, 2, 2, 2, 2, 2, 2, 0, 2, 2, 2, 2, 0, 2, 2, 2, 2, 0, 2, 2, 2, 2, 2, 2, 0, 2, 2, 0, 0, 2, 2, 0, 2, 0, 2, 2, 2, 2, 2, 2, 2, 2, 2, 2, 2, 2, 2, 2, 2, 2, 2, 2, 2, 0, 2, 2, 2, 0, 2, 2, 2, 2, 2, 2, 2, 2, 2, 0, 2, 2, 2, 2, 2, 2, 2, 2, 2, 2, 2, 0, 2, 2, 2, 2, 2, 2, 2, 2, 2, 2, 2, 2, 2, 0, 2, 2, 2, 2, 2, 2, 2, 2, 2, 2, 2, 0, 2, 2, 0, 0, 2, 2, 2, 2, 2, 2, 2, 2, 2, 2, 0, 2, 2, 2, 2, 2, 2, 2, 2, 0, 2, 2, 2, 2, 0, 2, 2, 2, 2, 2, 2, 2, 2, 2, 2, 2, 2, 2, 0, 2, 2, 2, 0, 0, 2, 2, 0, 2, 0, 2, 0, 0, 0, 0, 0, 2, 2, 0, 2, 0, 2, 0, 2, 2, 2, 0, 0, 2, 2, 2, 0, 2, 2, 2, 2, 2, 0, 0, 2, 2, 2, 2, 2, 0, 2, 2, 2, 0, 0, 0, 2, 2, 2, 2, 2, 0, 0, 2, 0, 2, 0, 0, 0, 2, 2, 2, 2, 0, 0, 2, 2, 2, 0, 2, 0, 2, 0, 0, 2, 0, 0, 2, 0, 0, 2, 2, 2, 0, 0, 2, 0, 0, 2, 0, 2, 2, 0, 0, 0, 0, 2, 0, 0, 0, 0, 0, 2, 0, 0, 2, 2, 0, 0, 0, 2, 2, 0, 2, 2, 0, 0, 0, 0, 0, 2, 2, 0, 2, 0, 2, 2, 2, 2, 2, 2, 0, 2, 0, 2, 2, 2, 0, 2, 0, 2, 0, 2, 2, 0, 0, 2, 2, 0, 2, 2, 2, 0, 2, 2, 0, 0, 0, 0, 0, 0, 2, 2, 0, 0, 2, 2, 0, 2, 0, 0, 0, 2, 2, 2, 2, 2, 2, 2, 2, 0, 2, 0, 0, 2, 2, 2, 2, 0, 0, 0, 0, 2, 0, 0, 2, 2, 2, 2, 2, 2, 2, 2, 2, 2, 2, 2, 0, 2, 2, 0, 2, 2, 2, 2, 2, 2, 2, 2, 2, 2, 2, 2, 0, 2, 2, 2, 2, 2, 2, 2, 0, 0, 2, 2, 2, 2, 2, 2, 2, 2, 2, 2, 2, 0, 2, 2, 2, 2, 2, 2, 2, 2, 2, 2, 2, 2, 2, 2, 2, 2, 2, 2, 2, 2, 2, 2, 2, 2, 2, 2, 2, 2, 2, 2, 2, 2, 2, 2, 0, 0, 2, 2, 2, 2, 2, 0, 0, 2, 2, 2, 0, 2, 2, 2, 2, 2, 2, 2, 2, 2, 2, 2, 2, 2, 2, 0, 2, 2, 2, 2, 2, 2, 2, 2, 2, 2, 2, 2, 2, 2, 0, 2, 2, 2, 2, 2, 2, 2, 2, 2, 0, 2, 2, 2, 2, 2, 2, 2, 2, 2, 0, 2, 2, 2, 2, 2, 2, 2, 2, 2, 2, 2, 2, 2, 2, 0, 2, 2, 2, 2, 2, 2, 2, 2, 2, 2, 2, 2, 2, 2, 2, 2, 2, 2, 2, 2, 2, 2, 0, 0, 2, 2, 2, 0, 2, 2, 2, 0, 2, 2, 2, 2, 2, 2, 2, 2, 2, 2, 0, 0, 2, 2, 2, 2, 2, 0, 2, 2, 2, 0, 2, 2, 2, 2, 2, 2, 2, 2, 0, 2, 2, 0, 2, 2, 0, 2, 0, 2, 0, 2, 2, 2, 2, 2, 0, 0, 2, 0, 0, 0, 2, 2, 2, 0, 2, 2, 2, 2, 2, 0, 2, 0, 2, 2, 2, 2, 2, 0, 2, 2, 2, 2, 2, 2, 2, 2, 2, 2, 2, 2, 0, 0, 2, 2, 0, 2, 0, 2, 2, 2, 0, 2, 2, 0, 0, 2, 0, 2, 2, 0, 0, 0, 2, 0, 2, 2, 2, 2, 2, 2, 2, 2, 2, 2, 2, 2, 2, 2, 2, 0, 2, 2, 2, 0, 2, 0, 2, 2, 0, 2, 2, 2, 2, 2, 2, 2, 0, 0, 2, 2, 2, 0, 2, 2, 0, 2, 0, 2, 2, 0, 0, 2, 2, 0, 0, 0, 2, 2, 2, 2, 2, 2, 0, 2, 2, 2, 0, 0, 2, 0, 2, 2, 0, 2, 2, 2, 2, 2, 2, 2, 2, 2, 2, 2, 2, 2, 2, 2, 2, 2, 2, 0, 0, 0, 2, 2, 0, 2, 2, 2, 2, 2, 2, 2, 2, 0, 2, 2, 2, 0, 2, 2, 2, 2, 2, 2, 2, 2, 0, 0, 0, 0, 0, 2, 2, 2, 2, 2, 2, 2, 0, 0, 2, 2, 0, 2, 2, 2, 2, 2, 2, 2, 2, 2, 2, 2, 2, 0, 2, 2, 0, 0, 2, 2, 2, 2, 2, 2, 0, 2, 2, 0, 0, 2, 2, 2, 2, 0, 2, 2, 2, 2, 0, 2, 2, 2, 2, 2, 0, 0, 2, 2, 0, 0, 0, 2, 0, 2, 0, 0, 2, 2, 2, 2, 2, 0, 2, 2, 2, 0, 2, 2, 2, 2, 2, 2, 2, 2, 0, 2, 2, 2, 0, 2, 0, 2, 0, 2, 2, 2, 2, 2, 0, 2, 2, 2, 2, 2, 0, 2, 0, 2, 2, 2, 0, 2, 2, 2, 2, 2, 2, 2, 2, 2, 2, 2, 2, 2, 0, 2, 2, 0, 2, 2, 2, 2, 2, 0, 2, 2, 0, 2, 2, 0, 0, 2, 2, 2, 2, 2, 2, 2, 2, 2, 2, 0, 2, 2, 0, 2, 2, 2, 2, 2, 0, 2, 2, 2, 0, 0, 2, 2, 0, 2, 2, 2, 2, 2, 2, 2, 0, 2, 2, 0, 0, 2, 2, 0, 0, 2, 2, 0, 2, 0, 0, 0, 2, 0, 0, 0, 2, 2, 0, 2, 0, 2, 0, 2, 0, 0, 0, 0, 0, 0, 2, 0, 2, 2, 2, 2, 0, 0, 0, 2, 2, 2, 2, 2, 0, 2, 2, 2, 0, 0, 0, 2, 2, 2, 2, 2, 0, 0, 2, 0, 2, 0, 0, 0, 0, 0, 2, 2, 0, 0, 2, 2, 2, 0, 0, 0, 2, 0, 0, 0, 0, 0, 0, 0, 0, 0, 2, 2, 2, 0, 0, 0, 0, 2, 0, 2, 2, 0, 0, 0, 0, 2, 0, 0, 0, 0, 0, 2, 0, 0, 2, 0, 0, 0, 0, 2, 2, 0, 2, 2, 0, 0, 0, 0, 0, 2, 0, 0, 2, 0, 0, 2, 2, 2, 2, 0, 0, 2, 0, 2, 2, 2, 0, 2, 0, 2, 0, 0, 2, 0, 0, 2, 2, 0, 2, 2, 2, 0, 2, 2, 0, 0, 0, 0, 0, 0, 2, 2, 0, 0, 2, 2, 0, 2, 0, 0, 0, 2, 2, 2, 2, 2, 0, 2, 2, 0, 2, 0, 0, 2, 2, 2, 2, 0, 0, 0, 0, 2, 0, 0, 2, 2, 2, 2, 2, 2, 0, 2, 0, 2, 2, 2, 0, 2, 2, 0, 2, 2, 2, 2, 2, 0, 2, 2, 2, 2, 2, 2, 0, 2, 0, 2, 2, 2, 2, 0, 0, 0, 0, 2, 2, 2, 2, 2, 2, 2, 0, 0, 2, 0, 2, 2, 2, 2, 2, 2, 2, 2, 2, 2, 2, 2, 0, 2, 0, 2, 2, 2, 2, 2, 2, 2, 0, 2, 0, 0, 2, 2, 2, 2, 2, 2, 0, 0, 0, 0, 2, 0, 0, 2, 2, 0, 0, 2, 2, 2, 0, 0, 2, 2, 2, 2, 2, 2, 2, 2, 0, 2, 2, 0, 0, 0, 2, 0, 0, 2, 2, 2, 0, 2, 2, 0, 2, 2, 2, 0, 0, 2, 0, 2, 2, 2, 2, 2, 2, 2, 0, 0, 2, 2, 2, 2, 2, 2, 0, 2, 0, 2, 2, 0, 2, 2, 2, 2, 2, 2, 2, 2, 2, 2, 2, 0, 2, 2, 0, 2, 2, 2, 2, 2, 2, 2, 2, 2, 2, 0, 2, 2, 2, 2, 0, 0, 2, 0, 0, 0, 2, 0, 2, 0, 2, 2, 2, 0, 2, 2, 2, 2, 0, 2, 2, 2, 2, 2, 0, 0, 2, 2, 2, 2, 2, 0, 2, 2, 2, 1, 2, 2, 2, 2, 1, 2, 2, 2, 1, 2, 2, 0, 2, 2, 2, 2, 0, 2, 2, 2, 2, 2, 2, 2, 0, 0, 2, 0, 0, 0, 2, 2, 1, 1, 2, 1, 2, 2, 1, 0, 2, 0, 2, 2, 2, 2, 2, 2, 2, 2, 1, 2, 2, 1, 2, 2, 2, 2, 2, 2, 0, 0, 1, 2, 0, 2, 0, 2, 2, 2, 1, 2, 1, 0, 0, 2, 0, 2, 2, 0, 0, 0, 2, 2, 2, 2, 2, 2, 2, 2, 2, 2, 2, 2, 2, 2, 2, 2, 2, 0, 2, 2, 2, 1, 2, 0, 2, 2, 2, 2, 2, 2, 2, 1, 2, 2, 0, 0, 2, 2, 2, 2, 2, 2, 1, 2, 0, 2, 2, 0, 0, 2, 2, 0, 2, 0, 2, 2, 1, 2, 2, 2, 0, 2, 2, 2, 0, 0, 2, 0, 2, 2, 0, 2, 2, 2, 2, 2, 2, 2, 2, 2, 2, 2, 2, 0, 2, 2, 2, 2, 2, 0, 1, 0, 2, 2, 0, 1, 2, 1, 2, 2, 2, 2, 2, 2, 2, 1, 2, 0, 2, 2, 2, 2, 1, 2, 2, 2, 0, 2, 0, 1, 0, 2, 2, 2, 2, 2, 2, 2, 0, 0, 2, 1, 0, 2, 2, 2, 2, 2, 2, 2, 2, 2, 2, 2, 1, 0, 2, 2, 0, 0, 2, 2, 2, 2, 2, 2, 0, 2, 2, 2, 0, 2, 2, 2, 2, 0, 2, 2, 2, 2, 0, 2, 2, 2, 2, 2, 1, 1, 2, 2, 0, 0, 1, 2, 0, 2, 0, 0, 2, 2, 2, 2, 2, 0, 1, 2, 2, 2, 2, 2, 2, 2, 2, 2, 2, 2, 0, 2, 0, 2, 0, 2, 1, 2, 0, 2, 2, 2, 2, 2, 0, 2, 1, 2, 2, 2, 1, 2, 0, 2, 2, 2, 0, 2, 2, 2, 2, 2, 2, 2, 2, 2, 2, 2, 2, 2, 0, 2, 2, 0, 2, 2, 2, 2, 2, 0, 2, 2, 0, 2, 2, 0, 0, 2, 2, 2, 2, 2, 2, 2, 2, 2, 2, 0, 2, 2, 1, 2, 2, 2, 2, 2, 0, 2, 2, 2, 0, 0, 2, 2, 2, 2, 2, 1, 2, 2, 2, 2, 0, 2, 1, 0, 2, 2, 0, 0, 0, 2, 2, 2, 2, 0, 2, 0, 1, 0, 0, 0, 2, 2, 0, 2, 0, 2, 0, 2, 2, 2, 0, 0, 0, 2, 2, 0, 2, 2, 2, 2, 2, 0, 0, 2, 2, 2, 2, 2, 0, 2, 2, 2, 2, 2, 0, 2, 2, 2, 2, 2, 0, 0, 2, 0, 2, 0, 0, 0, 1, 2, 2, 2, 0, 0, 2, 2, 2, 0, 1, 0, 2, 1, 2, 2, 0, 0, 2, 0, 0, 2, 2, 2, 2, 0, 2, 0, 0, 2, 1, 2, 2, 0, 0, 0, 2, 2, 0, 2, 0, 0, 0, 2, 0, 0, 2, 2, 2, 0, 0, 2, 2, 2, 2, 0, 0, 0, 0, 0, 1, 2, 0, 0, 2, 0, 0, 2, 2, 2, 2, 0, 0, 2, 0, 2, 2, 2, 0, 2, 0, 2, 0, 0, 2, 0, 0, 2, 2, 0, 2, 2, 2, 0, 2, 2, 0, 0, 0, 0, 0, 0, 2, 2, 0, 2, 2, 2, 0, 2, 2, 0, 0, 2, 2, 2, 2, 2, 2, 2, 2, 0, 2, 0, 0, 2, 2, 2, 2, 0, 0, 0, 0, 2, 2, 2, 2, 2, 2, 2, 2, 2, 1, 2, 0, 2, 2, 2, 0, 2, 2, 1, 2, 2, 2, 2, 2, 1, 2, 2, 2, 2, 2, 2, 1, 2, 2, 2, 2, 2, 2, 1, 0, 0, 2, 2, 2, 2, 2, 2, 2, 2, 2, 2, 1, 0, 1, 2, 2, 2, 2, 2, 2, 2, 2, 2, 2, 2, 2, 2, 1, 2, 2, 2, 2, 2, 0, 2, 1, 2, 2, 0, 2, 2, 2, 2, 2, 2, 1, 0, 1, 0, 2, 2, 0, 2, 2, 0, 0, 2, 2, 2, 0, 0, 1, 2, 2, 2, 2, 1, 2, 2, 1, 2, 2, 0, 2, 0, 2, 1, 1, 2, 2, 2, 1, 2, 2, 0, 2, 2, 2, 2, 0, 2, 1, 2, 2, 2, 2, 2, 2, 2, 2, 0, 2, 2, 2, 2, 1, 2, 2, 2, 1, 2, 2, 0, 1, 2, 2, 2, 2, 2, 2, 2, 2, 2, 2, 0, 2, 2, 0, 2, 2, 2, 2, 2, 2, 2, 2, 2, 2, 2, 2, 2, 2, 2, 1, 2, 2, 1, 2, 0, 0, 0, 2, 0, 2, 2, 2, 0, 2, 2, 2, 2, 0, 2, 2, 2, 2, 2, 0, 0, 2, 1, 2, 2, 2, 0, 2, 2, 2, 1, 2, 2, 2, 1, 1, 1, 2, 2, 1, 0, 1, 2, 2, 2, 2, 2, 0, 2, 2, 2, 2, 2, 2, 2, 0, 0, 2, 0, 1, 1, 2, 2, 1, 0, 2, 2, 2, 2, 2, 1, 1, 1, 2, 2, 2, 2, 2, 2, 2, 1, 1, 2, 2, 1, 2, 2, 2, 2, 2, 2, 0, 0, 1, 2, 0, 2, 0, 2, 2, 2, 2, 2, 1, 0, 0, 2, 0, 2, 2, 0, 1, 0, 2, 2, 2, 2, 2, 2, 2, 2, 2, 2, 2, 2, 2, 2, 2, 2, 2, 0, 2, 2, 2, 1, 2, 0, 2, 2, 2, 2, 2, 2, 2, 1, 2, 2, 0, 0, 2, 2, 1, 2, 2, 2, 2, 2, 1, 2, 2, 0, 0, 2, 2, 0, 2, 2, 2, 2, 1, 2, 2, 2, 0, 2, 2, 2, 0, 0, 1, 0, 2, 2, 0, 0, 2, 2, 2, 2, 2, 2, 2, 2, 2, 2, 2, 0, 2, 1, 2, 2, 1, 0, 0, 1, 2, 1, 0, 1, 2, 1, 2, 2, 2, 2, 2, 2, 2, 1, 2, 0, 2, 2, 2, 2, 1, 1, 2, 2, 0, 2, 1, 1, 0, 2, 2, 2, 2, 2, 1, 2, 0, 0, 2, 1, 0, 2, 2, 2, 1, 2, 2, 2, 2, 2, 1, 2, 1, 1, 2, 2, 0, 0, 2, 2, 2, 2, 1, 2, 0, 0, 2, 2, 0, 2, 2, 2, 2, 0, 2, 2, 2, 1, 0, 2, 2, 2, 1, 2, 0, 1, 2, 2, 0, 0, 1, 2, 0, 2, 0, 0, 2, 1, 1, 2, 2, 0, 1, 1, 2, 2, 2, 2, 2, 2, 2, 2, 2, 2, 0, 2, 0, 2, 0, 2, 1, 2, 1, 2, 2, 2, 2, 2, 0, 2, 2, 2, 2, 2, 0, 2, 0, 2, 2, 2, 0, 2, 2, 1, 2, 2, 2, 1, 2, 2, 2, 1, 2, 2, 0, 2, 2, 1, 2, 2, 2, 2, 2, 0, 2, 2, 0, 2, 2, 0, 0, 1, 2, 2, 2, 2, 2, 2, 2, 2, 2, 0, 2, 2, 1, 1, 2, 2, 2, 2, 0, 2, 2, 2, 0, 0, 2, 2, 2, 2, 1, 0, 2, 2, 2, 1, 0, 2, 2, 1, 2, 2, 0, 0, 0, 2, 2, 2, 2, 0, 1, 0, 0, 2, 0, 0, 2, 2, 0, 2, 0, 2, 0, 2, 2, 1, 2, 0, 0, 1, 2, 0, 1, 2, 1, 2, 2, 0, 0, 1, 2, 2, 2, 2, 2, 2, 2, 1, 1, 2, 0, 2, 2, 2, 2, 2, 0, 0, 2, 1, 2, 0, 2, 0, 1, 1, 2, 1, 0, 0, 2, 2, 2, 0, 1, 0, 2, 2, 2, 2, 0, 0, 2, 0, 1, 2, 2, 2, 2, 0, 2, 1, 0, 2, 1, 1, 2, 0, 0, 2, 1, 2, 0, 1, 0, 0, 2, 2, 0, 0, 2, 2, 2, 2, 0, 2, 2, 2, 1, 2, 0, 0, 0, 1, 0, 2, 1, 0, 2, 0, 0, 2, 2, 2, 2, 0, 0, 2, 0, 2, 2, 2, 0, 2, 0, 2, 1, 2, 2, 0, 0, 2, 2, 1, 2, 2, 2, 0, 2, 1, 0, 0, 0, 0, 0, 0, 2, 2, 0, 2, 2, 2, 0, 2, 2, 2, 0, 2, 2, 2, 2, 2, 2, 2, 2, 0, 1, 0, 0, 2, 2, 2, 2, 0, 0, 0, 0, 2, 2, 2, 1, 2, 2, 2, 2, 2, 1, 2, 0, 2, 2, 2, 0, 2, 2, 0, 2, 2, 2, 2, 2, 1, 2, 2, 2, 2, 2, 1, 1, 2, 2, 2, 2, 2, 1, 1, 0, 0, 1, 2, 2, 2, 2, 1, 2, 2, 1, 1, 0, 0, 0, 2, 2, 2, 2, 2, 2, 2, 2, 2, 2, 2, 1, 2, 1, 2, 2, 2, 2, 2, 2, 2, 0, 2, 1, 0, 2, 1, 2, 2, 2, 2, 0, 0, 1, 0, 2, 2, 0, 2, 2, 0, 0, 2, 1, 2, 0, 0, 1, 2, 2, 2, 2, 1, 2, 2, 1, 1, 2, 0, 2, 0, 2, 1, 1, 2, 2, 2, 1, 2, 2, 0, 2, 2, 2, 1, 0, 2, 0, 2, 2, 2, 2, 2, 1, 2, 1, 0, 2, 2, 2, 2, 1, 1, 2, 2, 1, 2, 2, 0, 1, 2, 2, 2, 2, 1, 1, 2, 2, 2, 2, 0, 2, 2, 0, 2, 2, 1, 1, 2, 2, 2, 2, 2, 2, 2, 2, 2, 2, 1, 1, 2, 2, 1, 1, 0, 0, 0, 2, 0, 1, 2, 2, 0, 1, 2, 2, 2, 0, 2]\n"
          ]
        }
      ]
    },
    {
      "cell_type": "code",
      "source": [
        "from sklearn.metrics import accuracy_score\n",
        "from sklearn import metrics\n",
        "\n",
        "matrix = metrics.confusion_matrix(true_labels, predictions, labels=[0, 1, 2])\n",
        "print(matrix)\n",
        "sum = np.sum(matrix)\n",
        "acc_low = (matrix[0][0] + matrix[1][1] + matrix[1][2] + matrix[2][1] + matrix [2][2])/(sum) #exactitude relative à la classe low\n",
        "acc_medium = (matrix[0][0] + matrix[1][1] + matrix[0][2] + matrix[2][0] + matrix [2][2])/(sum) #exactitude relative à la classe medium\n",
        "acc_high = (matrix[0][0] + matrix[1][1] + matrix[0][1] + matrix[1][0] + matrix [2][2])/(sum) #exactitude relative à la classe high\n",
        "\n",
        "accuracy = accuracy_score(predictions, true_labels)\n",
        "print(\"Accuracy :\")\n",
        "print(accuracy)\n",
        "print(\"Accuracy low :\")\n",
        "print(acc_low)  \n",
        "print(\"Accuracy medium :\")\n",
        "print(acc_medium) \n",
        "print(\"Accuracy high :\")\n",
        "print(acc_high) \n",
        "print(\"Average accuracy :\")\n",
        "print((acc_low + acc_medium + acc_high)/3) \n",
        "print(\"Classification report :\")\n",
        "print(metrics.classification_report(true_labels, predictions, labels=[0, 1, 2], zero_division=1))"
      ],
      "metadata": {
        "execution": {
          "iopub.status.busy": "2023-01-04T23:24:06.081729Z",
          "iopub.execute_input": "2023-01-04T23:24:06.082114Z",
          "iopub.status.idle": "2023-01-04T23:24:06.105302Z",
          "shell.execute_reply.started": "2023-01-04T23:24:06.082079Z",
          "shell.execute_reply": "2023-01-04T23:24:06.104228Z"
        },
        "trusted": true,
        "colab": {
          "base_uri": "https://localhost:8080/"
        },
        "id": "c319oMupc0NK",
        "outputId": "9448c2f4-f2c9-4c42-c113-7b1dfe58400e"
      },
      "execution_count": 14,
      "outputs": [
        {
          "output_type": "stream",
          "name": "stdout",
          "text": [
            "[[ 494   67  419]\n",
            " [ 158   52  474]\n",
            " [ 155   74 1307]]\n",
            "Accuracy :\n",
            "0.5790625\n",
            "Accuracy low :\n",
            "0.7503125\n",
            "Accuracy medium :\n",
            "0.7584375\n",
            "Accuracy high :\n",
            "0.649375\n",
            "Average accuracy :\n",
            "0.719375\n",
            "Classification report :\n",
            "              precision    recall  f1-score   support\n",
            "\n",
            "           0       0.61      0.50      0.55       980\n",
            "           1       0.27      0.08      0.12       684\n",
            "           2       0.59      0.85      0.70      1536\n",
            "\n",
            "    accuracy                           0.58      3200\n",
            "   macro avg       0.49      0.48      0.46      3200\n",
            "weighted avg       0.53      0.58      0.53      3200\n",
            "\n"
          ]
        }
      ]
    },
    {
      "cell_type": "code",
      "source": [],
      "metadata": {
        "id": "Bdj4ulglc0NL"
      },
      "execution_count": null,
      "outputs": []
    }
  ]
}